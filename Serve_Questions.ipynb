{
 "cells": [
  {
   "cell_type": "code",
   "execution_count": 2,
   "metadata": {},
   "outputs": [
    {
     "name": "stderr",
     "output_type": "stream",
     "text": [
      "\u001b[32m\u001b[1m  Activating\u001b[22m\u001b[39m environment at `~/dev_zip2021/ZipAssess/env/Project.toml`\n"
     ]
    },
    {
     "name": "stdout",
     "output_type": "stream",
     "text": [
      "\u001b[32m\u001b[1m      Status\u001b[22m\u001b[39m `~/dev_zip2021/ZipAssess/env/Project.toml`\n",
      " \u001b[90m [336ed68f] \u001b[39m\u001b[37mCSV v0.8.4\u001b[39m\n",
      " \u001b[90m [a93c6f00] \u001b[39m\u001b[37mDataFrames v0.22.7\u001b[39m\n",
      " \u001b[90m [c43c736e] \u001b[39m\u001b[37mGenie v1.17.1\u001b[39m\n",
      " \u001b[90m [add582a8] \u001b[39m\u001b[37mMLJ v0.16.1\u001b[39m\n",
      " \u001b[90m [caf8df21] \u001b[39m\u001b[37mMLJGLMInterface v0.1.3\u001b[39m\n"
     ]
    }
   ],
   "source": [
    "using Pkg\n",
    "Pkg.activate(\"env\")\n",
    "Pkg.status()"
   ]
  },
  {
   "cell_type": "code",
   "execution_count": 33,
   "metadata": {},
   "outputs": [],
   "source": [
    "using CSV\n",
    "using DataFrames\n",
    "using StatsBase\n",
    "using Random"
   ]
  },
  {
   "cell_type": "markdown",
   "metadata": {},
   "source": [
    "- Load CSV\n",
    "- Find median\n",
    "- Pick n random questions from first half and t - n random questions from next half\n",
    "- Format the result in json"
   ]
  },
  {
   "cell_type": "code",
   "execution_count": 4,
   "metadata": {},
   "outputs": [
    {
     "data": {
      "text/html": [
       "<table class=\"data-frame\"><thead><tr><th></th><th>m1</th><th>m2</th><th>ans</th><th>predicted_time</th></tr><tr><th></th><th>Float64</th><th>Float64</th><th>Float64</th><th>Float64</th></tr></thead><tbody><p>144 rows × 4 columns</p><tr><th>1</th><td>12.0</td><td>1.0</td><td>12.0</td><td>2.31883</td></tr><tr><th>2</th><td>12.0</td><td>2.0</td><td>24.0</td><td>2.30038</td></tr><tr><th>3</th><td>12.0</td><td>3.0</td><td>36.0</td><td>2.28194</td></tr><tr><th>4</th><td>12.0</td><td>4.0</td><td>48.0</td><td>2.2635</td></tr><tr><th>5</th><td>12.0</td><td>5.0</td><td>60.0</td><td>2.24505</td></tr><tr><th>6</th><td>12.0</td><td>6.0</td><td>72.0</td><td>2.22661</td></tr><tr><th>7</th><td>11.0</td><td>1.0</td><td>11.0</td><td>2.22283</td></tr><tr><th>8</th><td>11.0</td><td>2.0</td><td>22.0</td><td>2.21344</td></tr><tr><th>9</th><td>12.0</td><td>7.0</td><td>84.0</td><td>2.20817</td></tr><tr><th>10</th><td>11.0</td><td>3.0</td><td>33.0</td><td>2.20405</td></tr><tr><th>11</th><td>11.0</td><td>4.0</td><td>44.0</td><td>2.19466</td></tr><tr><th>12</th><td>12.0</td><td>8.0</td><td>96.0</td><td>2.18972</td></tr><tr><th>13</th><td>11.0</td><td>5.0</td><td>55.0</td><td>2.18526</td></tr><tr><th>14</th><td>11.0</td><td>6.0</td><td>66.0</td><td>2.17587</td></tr><tr><th>15</th><td>12.0</td><td>9.0</td><td>108.0</td><td>2.17128</td></tr><tr><th>16</th><td>11.0</td><td>7.0</td><td>77.0</td><td>2.16648</td></tr><tr><th>17</th><td>11.0</td><td>8.0</td><td>88.0</td><td>2.15709</td></tr><tr><th>18</th><td>1.0</td><td>12.0</td><td>12.0</td><td>2.15521</td></tr><tr><th>19</th><td>12.0</td><td>10.0</td><td>120.0</td><td>2.15284</td></tr><tr><th>20</th><td>2.0</td><td>12.0</td><td>24.0</td><td>2.15164</td></tr><tr><th>21</th><td>3.0</td><td>12.0</td><td>36.0</td><td>2.14807</td></tr><tr><th>22</th><td>11.0</td><td>9.0</td><td>99.0</td><td>2.14769</td></tr><tr><th>23</th><td>4.0</td><td>12.0</td><td>48.0</td><td>2.1445</td></tr><tr><th>24</th><td>5.0</td><td>12.0</td><td>60.0</td><td>2.14093</td></tr><tr><th>25</th><td>11.0</td><td>10.0</td><td>110.0</td><td>2.1383</td></tr><tr><th>26</th><td>6.0</td><td>12.0</td><td>72.0</td><td>2.13736</td></tr><tr><th>27</th><td>12.0</td><td>11.0</td><td>132.0</td><td>2.13439</td></tr><tr><th>28</th><td>7.0</td><td>12.0</td><td>84.0</td><td>2.13379</td></tr><tr><th>29</th><td>8.0</td><td>12.0</td><td>96.0</td><td>2.13022</td></tr><tr><th>30</th><td>11.0</td><td>11.0</td><td>121.0</td><td>2.12891</td></tr><tr><th>&vellip;</th><td>&vellip;</td><td>&vellip;</td><td>&vellip;</td><td>&vellip;</td></tr></tbody></table>"
      ],
      "text/latex": [
       "\\begin{tabular}{r|cccc}\n",
       "\t& m1 & m2 & ans & predicted\\_time\\\\\n",
       "\t\\hline\n",
       "\t& Float64 & Float64 & Float64 & Float64\\\\\n",
       "\t\\hline\n",
       "\t1 & 12.0 & 1.0 & 12.0 & 2.31883 \\\\\n",
       "\t2 & 12.0 & 2.0 & 24.0 & 2.30038 \\\\\n",
       "\t3 & 12.0 & 3.0 & 36.0 & 2.28194 \\\\\n",
       "\t4 & 12.0 & 4.0 & 48.0 & 2.2635 \\\\\n",
       "\t5 & 12.0 & 5.0 & 60.0 & 2.24505 \\\\\n",
       "\t6 & 12.0 & 6.0 & 72.0 & 2.22661 \\\\\n",
       "\t7 & 11.0 & 1.0 & 11.0 & 2.22283 \\\\\n",
       "\t8 & 11.0 & 2.0 & 22.0 & 2.21344 \\\\\n",
       "\t9 & 12.0 & 7.0 & 84.0 & 2.20817 \\\\\n",
       "\t10 & 11.0 & 3.0 & 33.0 & 2.20405 \\\\\n",
       "\t11 & 11.0 & 4.0 & 44.0 & 2.19466 \\\\\n",
       "\t12 & 12.0 & 8.0 & 96.0 & 2.18972 \\\\\n",
       "\t13 & 11.0 & 5.0 & 55.0 & 2.18526 \\\\\n",
       "\t14 & 11.0 & 6.0 & 66.0 & 2.17587 \\\\\n",
       "\t15 & 12.0 & 9.0 & 108.0 & 2.17128 \\\\\n",
       "\t16 & 11.0 & 7.0 & 77.0 & 2.16648 \\\\\n",
       "\t17 & 11.0 & 8.0 & 88.0 & 2.15709 \\\\\n",
       "\t18 & 1.0 & 12.0 & 12.0 & 2.15521 \\\\\n",
       "\t19 & 12.0 & 10.0 & 120.0 & 2.15284 \\\\\n",
       "\t20 & 2.0 & 12.0 & 24.0 & 2.15164 \\\\\n",
       "\t21 & 3.0 & 12.0 & 36.0 & 2.14807 \\\\\n",
       "\t22 & 11.0 & 9.0 & 99.0 & 2.14769 \\\\\n",
       "\t23 & 4.0 & 12.0 & 48.0 & 2.1445 \\\\\n",
       "\t24 & 5.0 & 12.0 & 60.0 & 2.14093 \\\\\n",
       "\t25 & 11.0 & 10.0 & 110.0 & 2.1383 \\\\\n",
       "\t26 & 6.0 & 12.0 & 72.0 & 2.13736 \\\\\n",
       "\t27 & 12.0 & 11.0 & 132.0 & 2.13439 \\\\\n",
       "\t28 & 7.0 & 12.0 & 84.0 & 2.13379 \\\\\n",
       "\t29 & 8.0 & 12.0 & 96.0 & 2.13022 \\\\\n",
       "\t30 & 11.0 & 11.0 & 121.0 & 2.12891 \\\\\n",
       "\t$\\dots$ & $\\dots$ & $\\dots$ & $\\dots$ & $\\dots$ \\\\\n",
       "\\end{tabular}\n"
      ],
      "text/plain": [
       "\u001b[1m144×4 DataFrame\u001b[0m\n",
       "\u001b[1m Row \u001b[0m│\u001b[1m m1      \u001b[0m\u001b[1m m2      \u001b[0m\u001b[1m ans     \u001b[0m\u001b[1m predicted_time \u001b[0m\n",
       "\u001b[1m     \u001b[0m│\u001b[90m Float64 \u001b[0m\u001b[90m Float64 \u001b[0m\u001b[90m Float64 \u001b[0m\u001b[90m Float64        \u001b[0m\n",
       "─────┼───────────────────────────────────────────\n",
       "   1 │    12.0      1.0     12.0         2.31883\n",
       "   2 │    12.0      2.0     24.0         2.30038\n",
       "   3 │    12.0      3.0     36.0         2.28194\n",
       "   4 │    12.0      4.0     48.0         2.2635\n",
       "   5 │    12.0      5.0     60.0         2.24505\n",
       "   6 │    12.0      6.0     72.0         2.22661\n",
       "   7 │    11.0      1.0     11.0         2.22283\n",
       "   8 │    11.0      2.0     22.0         2.21344\n",
       "   9 │    12.0      7.0     84.0         2.20817\n",
       "  10 │    11.0      3.0     33.0         2.20405\n",
       "  11 │    11.0      4.0     44.0         2.19466\n",
       "  ⋮  │    ⋮        ⋮        ⋮           ⋮\n",
       " 135 │     4.0      1.0      4.0         1.55087\n",
       " 136 │     3.0      2.0      6.0         1.5179\n",
       " 137 │     1.0      4.0      4.0         1.50625\n",
       " 138 │     2.0      3.0      6.0         1.50302\n",
       " 139 │     3.0      1.0      3.0         1.45488\n",
       " 140 │     2.0      2.0      4.0         1.43095\n",
       " 141 │     1.0      3.0      3.0         1.42513\n",
       " 142 │     2.0      1.0      2.0         1.35888\n",
       " 143 │     1.0      2.0      2.0         1.34401\n",
       " 144 │     1.0      1.0      1.0         1.26289\n",
       "\u001b[36m                                 123 rows omitted\u001b[0m"
      ]
     },
     "execution_count": 4,
     "metadata": {},
     "output_type": "execute_result"
    }
   ],
   "source": [
    "df = DataFrame(CSV.File(\"data_trained/christopher.trained.csv\"))"
   ]
  },
  {
   "cell_type": "code",
   "execution_count": 13,
   "metadata": {},
   "outputs": [
    {
     "data": {
      "text/html": [
       "<table class=\"data-frame\"><thead><tr><th></th><th>m1</th><th>m2</th><th>ans</th><th>predicted_time</th></tr><tr><th></th><th>Float64</th><th>Float64</th><th>Float64</th><th>Float64</th></tr></thead><tbody><p>72 rows × 4 columns</p><tr><th>1</th><td>12.0</td><td>1.0</td><td>12.0</td><td>2.31883</td></tr><tr><th>2</th><td>12.0</td><td>2.0</td><td>24.0</td><td>2.30038</td></tr><tr><th>3</th><td>12.0</td><td>3.0</td><td>36.0</td><td>2.28194</td></tr><tr><th>4</th><td>12.0</td><td>4.0</td><td>48.0</td><td>2.2635</td></tr><tr><th>5</th><td>12.0</td><td>5.0</td><td>60.0</td><td>2.24505</td></tr><tr><th>6</th><td>12.0</td><td>6.0</td><td>72.0</td><td>2.22661</td></tr><tr><th>7</th><td>11.0</td><td>1.0</td><td>11.0</td><td>2.22283</td></tr><tr><th>8</th><td>11.0</td><td>2.0</td><td>22.0</td><td>2.21344</td></tr><tr><th>9</th><td>12.0</td><td>7.0</td><td>84.0</td><td>2.20817</td></tr><tr><th>10</th><td>11.0</td><td>3.0</td><td>33.0</td><td>2.20405</td></tr><tr><th>11</th><td>11.0</td><td>4.0</td><td>44.0</td><td>2.19466</td></tr><tr><th>12</th><td>12.0</td><td>8.0</td><td>96.0</td><td>2.18972</td></tr><tr><th>13</th><td>11.0</td><td>5.0</td><td>55.0</td><td>2.18526</td></tr><tr><th>14</th><td>11.0</td><td>6.0</td><td>66.0</td><td>2.17587</td></tr><tr><th>15</th><td>12.0</td><td>9.0</td><td>108.0</td><td>2.17128</td></tr><tr><th>16</th><td>11.0</td><td>7.0</td><td>77.0</td><td>2.16648</td></tr><tr><th>17</th><td>11.0</td><td>8.0</td><td>88.0</td><td>2.15709</td></tr><tr><th>18</th><td>1.0</td><td>12.0</td><td>12.0</td><td>2.15521</td></tr><tr><th>19</th><td>12.0</td><td>10.0</td><td>120.0</td><td>2.15284</td></tr><tr><th>20</th><td>2.0</td><td>12.0</td><td>24.0</td><td>2.15164</td></tr><tr><th>21</th><td>3.0</td><td>12.0</td><td>36.0</td><td>2.14807</td></tr><tr><th>22</th><td>11.0</td><td>9.0</td><td>99.0</td><td>2.14769</td></tr><tr><th>23</th><td>4.0</td><td>12.0</td><td>48.0</td><td>2.1445</td></tr><tr><th>24</th><td>5.0</td><td>12.0</td><td>60.0</td><td>2.14093</td></tr><tr><th>25</th><td>11.0</td><td>10.0</td><td>110.0</td><td>2.1383</td></tr><tr><th>26</th><td>6.0</td><td>12.0</td><td>72.0</td><td>2.13736</td></tr><tr><th>27</th><td>12.0</td><td>11.0</td><td>132.0</td><td>2.13439</td></tr><tr><th>28</th><td>7.0</td><td>12.0</td><td>84.0</td><td>2.13379</td></tr><tr><th>29</th><td>8.0</td><td>12.0</td><td>96.0</td><td>2.13022</td></tr><tr><th>30</th><td>11.0</td><td>11.0</td><td>121.0</td><td>2.12891</td></tr><tr><th>&vellip;</th><td>&vellip;</td><td>&vellip;</td><td>&vellip;</td><td>&vellip;</td></tr></tbody></table>"
      ],
      "text/latex": [
       "\\begin{tabular}{r|cccc}\n",
       "\t& m1 & m2 & ans & predicted\\_time\\\\\n",
       "\t\\hline\n",
       "\t& Float64 & Float64 & Float64 & Float64\\\\\n",
       "\t\\hline\n",
       "\t1 & 12.0 & 1.0 & 12.0 & 2.31883 \\\\\n",
       "\t2 & 12.0 & 2.0 & 24.0 & 2.30038 \\\\\n",
       "\t3 & 12.0 & 3.0 & 36.0 & 2.28194 \\\\\n",
       "\t4 & 12.0 & 4.0 & 48.0 & 2.2635 \\\\\n",
       "\t5 & 12.0 & 5.0 & 60.0 & 2.24505 \\\\\n",
       "\t6 & 12.0 & 6.0 & 72.0 & 2.22661 \\\\\n",
       "\t7 & 11.0 & 1.0 & 11.0 & 2.22283 \\\\\n",
       "\t8 & 11.0 & 2.0 & 22.0 & 2.21344 \\\\\n",
       "\t9 & 12.0 & 7.0 & 84.0 & 2.20817 \\\\\n",
       "\t10 & 11.0 & 3.0 & 33.0 & 2.20405 \\\\\n",
       "\t11 & 11.0 & 4.0 & 44.0 & 2.19466 \\\\\n",
       "\t12 & 12.0 & 8.0 & 96.0 & 2.18972 \\\\\n",
       "\t13 & 11.0 & 5.0 & 55.0 & 2.18526 \\\\\n",
       "\t14 & 11.0 & 6.0 & 66.0 & 2.17587 \\\\\n",
       "\t15 & 12.0 & 9.0 & 108.0 & 2.17128 \\\\\n",
       "\t16 & 11.0 & 7.0 & 77.0 & 2.16648 \\\\\n",
       "\t17 & 11.0 & 8.0 & 88.0 & 2.15709 \\\\\n",
       "\t18 & 1.0 & 12.0 & 12.0 & 2.15521 \\\\\n",
       "\t19 & 12.0 & 10.0 & 120.0 & 2.15284 \\\\\n",
       "\t20 & 2.0 & 12.0 & 24.0 & 2.15164 \\\\\n",
       "\t21 & 3.0 & 12.0 & 36.0 & 2.14807 \\\\\n",
       "\t22 & 11.0 & 9.0 & 99.0 & 2.14769 \\\\\n",
       "\t23 & 4.0 & 12.0 & 48.0 & 2.1445 \\\\\n",
       "\t24 & 5.0 & 12.0 & 60.0 & 2.14093 \\\\\n",
       "\t25 & 11.0 & 10.0 & 110.0 & 2.1383 \\\\\n",
       "\t26 & 6.0 & 12.0 & 72.0 & 2.13736 \\\\\n",
       "\t27 & 12.0 & 11.0 & 132.0 & 2.13439 \\\\\n",
       "\t28 & 7.0 & 12.0 & 84.0 & 2.13379 \\\\\n",
       "\t29 & 8.0 & 12.0 & 96.0 & 2.13022 \\\\\n",
       "\t30 & 11.0 & 11.0 & 121.0 & 2.12891 \\\\\n",
       "\t$\\dots$ & $\\dots$ & $\\dots$ & $\\dots$ & $\\dots$ \\\\\n",
       "\\end{tabular}\n"
      ],
      "text/plain": [
       "\u001b[1m72×4 DataFrame\u001b[0m\n",
       "\u001b[1m Row \u001b[0m│\u001b[1m m1      \u001b[0m\u001b[1m m2      \u001b[0m\u001b[1m ans     \u001b[0m\u001b[1m predicted_time \u001b[0m\n",
       "\u001b[1m     \u001b[0m│\u001b[90m Float64 \u001b[0m\u001b[90m Float64 \u001b[0m\u001b[90m Float64 \u001b[0m\u001b[90m Float64        \u001b[0m\n",
       "─────┼───────────────────────────────────────────\n",
       "   1 │    12.0      1.0     12.0         2.31883\n",
       "   2 │    12.0      2.0     24.0         2.30038\n",
       "   3 │    12.0      3.0     36.0         2.28194\n",
       "   4 │    12.0      4.0     48.0         2.2635\n",
       "   5 │    12.0      5.0     60.0         2.24505\n",
       "   6 │    12.0      6.0     72.0         2.22661\n",
       "   7 │    11.0      1.0     11.0         2.22283\n",
       "   8 │    11.0      2.0     22.0         2.21344\n",
       "   9 │    12.0      7.0     84.0         2.20817\n",
       "  10 │    11.0      3.0     33.0         2.20405\n",
       "  11 │    11.0      4.0     44.0         2.19466\n",
       "  ⋮  │    ⋮        ⋮        ⋮           ⋮\n",
       "  63 │     9.0      5.0     45.0         2.06568\n",
       "  64 │     6.0     10.0     60.0         2.06563\n",
       "  65 │     8.0      8.0     64.0         2.05918\n",
       "  66 │     9.0      4.0     36.0         2.05697\n",
       "  67 │     7.0      9.0     63.0         2.05336\n",
       "  68 │     5.0     10.0     50.0         2.0511\n",
       "  69 │     9.0      3.0     27.0         2.04826\n",
       "  70 │     8.0      7.0     56.0         2.04142\n",
       "  71 │     9.0      2.0     18.0         2.03955\n",
       "  72 │     4.0     10.0     40.0         2.03657\n",
       "\u001b[36m                                  51 rows omitted\u001b[0m"
      ]
     },
     "execution_count": 13,
     "metadata": {},
     "output_type": "execute_result"
    }
   ],
   "source": [
    "first_bucket = df[1:72,:]"
   ]
  },
  {
   "cell_type": "code",
   "execution_count": 15,
   "metadata": {},
   "outputs": [
    {
     "data": {
      "text/html": [
       "<table class=\"data-frame\"><thead><tr><th></th><th>m1</th><th>m2</th><th>ans</th><th>predicted_time</th></tr><tr><th></th><th>Float64</th><th>Float64</th><th>Float64</th><th>Float64</th></tr></thead><tbody><p>72 rows × 4 columns</p><tr><th>1</th><td>9.0</td><td>1.0</td><td>9.0</td><td>2.03084</td></tr><tr><th>2</th><td>6.0</td><td>9.0</td><td>54.0</td><td>2.02977</td></tr><tr><th>3</th><td>7.0</td><td>8.0</td><td>56.0</td><td>2.02654</td></tr><tr><th>4</th><td>8.0</td><td>6.0</td><td>48.0</td><td>2.02366</td></tr><tr><th>5</th><td>3.0</td><td>10.0</td><td>30.0</td><td>2.02203</td></tr><tr><th>6</th><td>2.0</td><td>10.0</td><td>20.0</td><td>2.0075</td></tr><tr><th>7</th><td>5.0</td><td>9.0</td><td>45.0</td><td>2.00619</td></tr><tr><th>8</th><td>8.0</td><td>5.0</td><td>40.0</td><td>2.00589</td></tr><tr><th>9</th><td>7.0</td><td>7.0</td><td>49.0</td><td>1.99973</td></tr><tr><th>10</th><td>6.0</td><td>8.0</td><td>48.0</td><td>1.99391</td></tr><tr><th>11</th><td>1.0</td><td>10.0</td><td>10.0</td><td>1.99297</td></tr><tr><th>12</th><td>8.0</td><td>4.0</td><td>32.0</td><td>1.98813</td></tr><tr><th>13</th><td>4.0</td><td>9.0</td><td>36.0</td><td>1.9826</td></tr><tr><th>14</th><td>7.0</td><td>6.0</td><td>42.0</td><td>1.97292</td></tr><tr><th>15</th><td>8.0</td><td>3.0</td><td>24.0</td><td>1.97037</td></tr><tr><th>16</th><td>5.0</td><td>8.0</td><td>40.0</td><td>1.96127</td></tr><tr><th>17</th><td>3.0</td><td>9.0</td><td>27.0</td><td>1.95902</td></tr><tr><th>18</th><td>6.0</td><td>7.0</td><td>42.0</td><td>1.95804</td></tr><tr><th>19</th><td>8.0</td><td>2.0</td><td>16.0</td><td>1.95261</td></tr><tr><th>20</th><td>7.0</td><td>5.0</td><td>35.0</td><td>1.94611</td></tr><tr><th>21</th><td>2.0</td><td>9.0</td><td>18.0</td><td>1.93543</td></tr><tr><th>22</th><td>8.0</td><td>1.0</td><td>8.0</td><td>1.93485</td></tr><tr><th>23</th><td>4.0</td><td>8.0</td><td>32.0</td><td>1.92863</td></tr><tr><th>24</th><td>6.0</td><td>6.0</td><td>36.0</td><td>1.92218</td></tr><tr><th>25</th><td>7.0</td><td>4.0</td><td>28.0</td><td>1.91929</td></tr><tr><th>26</th><td>5.0</td><td>7.0</td><td>35.0</td><td>1.91636</td></tr><tr><th>27</th><td>1.0</td><td>9.0</td><td>9.0</td><td>1.91185</td></tr><tr><th>28</th><td>3.0</td><td>8.0</td><td>24.0</td><td>1.896</td></tr><tr><th>29</th><td>7.0</td><td>3.0</td><td>21.0</td><td>1.89248</td></tr><tr><th>30</th><td>6.0</td><td>5.0</td><td>30.0</td><td>1.88632</td></tr><tr><th>&vellip;</th><td>&vellip;</td><td>&vellip;</td><td>&vellip;</td><td>&vellip;</td></tr></tbody></table>"
      ],
      "text/latex": [
       "\\begin{tabular}{r|cccc}\n",
       "\t& m1 & m2 & ans & predicted\\_time\\\\\n",
       "\t\\hline\n",
       "\t& Float64 & Float64 & Float64 & Float64\\\\\n",
       "\t\\hline\n",
       "\t1 & 9.0 & 1.0 & 9.0 & 2.03084 \\\\\n",
       "\t2 & 6.0 & 9.0 & 54.0 & 2.02977 \\\\\n",
       "\t3 & 7.0 & 8.0 & 56.0 & 2.02654 \\\\\n",
       "\t4 & 8.0 & 6.0 & 48.0 & 2.02366 \\\\\n",
       "\t5 & 3.0 & 10.0 & 30.0 & 2.02203 \\\\\n",
       "\t6 & 2.0 & 10.0 & 20.0 & 2.0075 \\\\\n",
       "\t7 & 5.0 & 9.0 & 45.0 & 2.00619 \\\\\n",
       "\t8 & 8.0 & 5.0 & 40.0 & 2.00589 \\\\\n",
       "\t9 & 7.0 & 7.0 & 49.0 & 1.99973 \\\\\n",
       "\t10 & 6.0 & 8.0 & 48.0 & 1.99391 \\\\\n",
       "\t11 & 1.0 & 10.0 & 10.0 & 1.99297 \\\\\n",
       "\t12 & 8.0 & 4.0 & 32.0 & 1.98813 \\\\\n",
       "\t13 & 4.0 & 9.0 & 36.0 & 1.9826 \\\\\n",
       "\t14 & 7.0 & 6.0 & 42.0 & 1.97292 \\\\\n",
       "\t15 & 8.0 & 3.0 & 24.0 & 1.97037 \\\\\n",
       "\t16 & 5.0 & 8.0 & 40.0 & 1.96127 \\\\\n",
       "\t17 & 3.0 & 9.0 & 27.0 & 1.95902 \\\\\n",
       "\t18 & 6.0 & 7.0 & 42.0 & 1.95804 \\\\\n",
       "\t19 & 8.0 & 2.0 & 16.0 & 1.95261 \\\\\n",
       "\t20 & 7.0 & 5.0 & 35.0 & 1.94611 \\\\\n",
       "\t21 & 2.0 & 9.0 & 18.0 & 1.93543 \\\\\n",
       "\t22 & 8.0 & 1.0 & 8.0 & 1.93485 \\\\\n",
       "\t23 & 4.0 & 8.0 & 32.0 & 1.92863 \\\\\n",
       "\t24 & 6.0 & 6.0 & 36.0 & 1.92218 \\\\\n",
       "\t25 & 7.0 & 4.0 & 28.0 & 1.91929 \\\\\n",
       "\t26 & 5.0 & 7.0 & 35.0 & 1.91636 \\\\\n",
       "\t27 & 1.0 & 9.0 & 9.0 & 1.91185 \\\\\n",
       "\t28 & 3.0 & 8.0 & 24.0 & 1.896 \\\\\n",
       "\t29 & 7.0 & 3.0 & 21.0 & 1.89248 \\\\\n",
       "\t30 & 6.0 & 5.0 & 30.0 & 1.88632 \\\\\n",
       "\t$\\dots$ & $\\dots$ & $\\dots$ & $\\dots$ & $\\dots$ \\\\\n",
       "\\end{tabular}\n"
      ],
      "text/plain": [
       "\u001b[1m72×4 DataFrame\u001b[0m\n",
       "\u001b[1m Row \u001b[0m│\u001b[1m m1      \u001b[0m\u001b[1m m2      \u001b[0m\u001b[1m ans     \u001b[0m\u001b[1m predicted_time \u001b[0m\n",
       "\u001b[1m     \u001b[0m│\u001b[90m Float64 \u001b[0m\u001b[90m Float64 \u001b[0m\u001b[90m Float64 \u001b[0m\u001b[90m Float64        \u001b[0m\n",
       "─────┼───────────────────────────────────────────\n",
       "   1 │     9.0      1.0      9.0         2.03084\n",
       "   2 │     6.0      9.0     54.0         2.02977\n",
       "   3 │     7.0      8.0     56.0         2.02654\n",
       "   4 │     8.0      6.0     48.0         2.02366\n",
       "   5 │     3.0     10.0     30.0         2.02203\n",
       "   6 │     2.0     10.0     20.0         2.0075\n",
       "   7 │     5.0      9.0     45.0         2.00619\n",
       "   8 │     8.0      5.0     40.0         2.00589\n",
       "   9 │     7.0      7.0     49.0         1.99973\n",
       "  10 │     6.0      8.0     48.0         1.99391\n",
       "  11 │     1.0     10.0     10.0         1.99297\n",
       "  ⋮  │    ⋮        ⋮        ⋮           ⋮\n",
       "  63 │     4.0      1.0      4.0         1.55087\n",
       "  64 │     3.0      2.0      6.0         1.5179\n",
       "  65 │     1.0      4.0      4.0         1.50625\n",
       "  66 │     2.0      3.0      6.0         1.50302\n",
       "  67 │     3.0      1.0      3.0         1.45488\n",
       "  68 │     2.0      2.0      4.0         1.43095\n",
       "  69 │     1.0      3.0      3.0         1.42513\n",
       "  70 │     2.0      1.0      2.0         1.35888\n",
       "  71 │     1.0      2.0      2.0         1.34401\n",
       "  72 │     1.0      1.0      1.0         1.26289\n",
       "\u001b[36m                                  51 rows omitted\u001b[0m"
      ]
     },
     "execution_count": 15,
     "metadata": {},
     "output_type": "execute_result"
    }
   ],
   "source": [
    "second_bucket = df[73:144,:]"
   ]
  },
  {
   "cell_type": "code",
   "execution_count": 28,
   "metadata": {},
   "outputs": [
    {
     "data": {
      "text/html": [
       "<table class=\"data-frame\"><thead><tr><th></th><th>m1</th><th>m2</th><th>ans</th><th>predicted_time</th></tr><tr><th></th><th>Float64</th><th>Float64</th><th>Float64</th><th>Float64</th></tr></thead><tbody><p>15 rows × 4 columns</p><tr><th>1</th><td>12.0</td><td>5.0</td><td>60.0</td><td>2.24505</td></tr><tr><th>2</th><td>9.0</td><td>7.0</td><td>63.0</td><td>2.0831</td></tr><tr><th>3</th><td>11.0</td><td>5.0</td><td>55.0</td><td>2.18526</td></tr><tr><th>4</th><td>11.0</td><td>11.0</td><td>121.0</td><td>2.12891</td></tr><tr><th>5</th><td>9.0</td><td>9.0</td><td>81.0</td><td>2.10052</td></tr><tr><th>6</th><td>10.0</td><td>8.0</td><td>80.0</td><td>2.12445</td></tr><tr><th>7</th><td>12.0</td><td>4.0</td><td>48.0</td><td>2.2635</td></tr><tr><th>8</th><td>6.0</td><td>10.0</td><td>60.0</td><td>2.06563</td></tr><tr><th>9</th><td>9.0</td><td>10.0</td><td>90.0</td><td>2.10923</td></tr><tr><th>10</th><td>12.0</td><td>2.0</td><td>24.0</td><td>2.30038</td></tr><tr><th>11</th><td>9.0</td><td>2.0</td><td>18.0</td><td>2.03955</td></tr><tr><th>12</th><td>1.0</td><td>11.0</td><td>11.0</td><td>2.07409</td></tr><tr><th>13</th><td>10.0</td><td>6.0</td><td>60.0</td><td>2.12513</td></tr><tr><th>14</th><td>9.0</td><td>4.0</td><td>36.0</td><td>2.05697</td></tr><tr><th>15</th><td>10.0</td><td>9.0</td><td>90.0</td><td>2.12411</td></tr></tbody></table>"
      ],
      "text/latex": [
       "\\begin{tabular}{r|cccc}\n",
       "\t& m1 & m2 & ans & predicted\\_time\\\\\n",
       "\t\\hline\n",
       "\t& Float64 & Float64 & Float64 & Float64\\\\\n",
       "\t\\hline\n",
       "\t1 & 12.0 & 5.0 & 60.0 & 2.24505 \\\\\n",
       "\t2 & 9.0 & 7.0 & 63.0 & 2.0831 \\\\\n",
       "\t3 & 11.0 & 5.0 & 55.0 & 2.18526 \\\\\n",
       "\t4 & 11.0 & 11.0 & 121.0 & 2.12891 \\\\\n",
       "\t5 & 9.0 & 9.0 & 81.0 & 2.10052 \\\\\n",
       "\t6 & 10.0 & 8.0 & 80.0 & 2.12445 \\\\\n",
       "\t7 & 12.0 & 4.0 & 48.0 & 2.2635 \\\\\n",
       "\t8 & 6.0 & 10.0 & 60.0 & 2.06563 \\\\\n",
       "\t9 & 9.0 & 10.0 & 90.0 & 2.10923 \\\\\n",
       "\t10 & 12.0 & 2.0 & 24.0 & 2.30038 \\\\\n",
       "\t11 & 9.0 & 2.0 & 18.0 & 2.03955 \\\\\n",
       "\t12 & 1.0 & 11.0 & 11.0 & 2.07409 \\\\\n",
       "\t13 & 10.0 & 6.0 & 60.0 & 2.12513 \\\\\n",
       "\t14 & 9.0 & 4.0 & 36.0 & 2.05697 \\\\\n",
       "\t15 & 10.0 & 9.0 & 90.0 & 2.12411 \\\\\n",
       "\\end{tabular}\n"
      ],
      "text/plain": [
       "\u001b[1m15×4 DataFrame\u001b[0m\n",
       "\u001b[1m Row \u001b[0m│\u001b[1m m1      \u001b[0m\u001b[1m m2      \u001b[0m\u001b[1m ans     \u001b[0m\u001b[1m predicted_time \u001b[0m\n",
       "\u001b[1m     \u001b[0m│\u001b[90m Float64 \u001b[0m\u001b[90m Float64 \u001b[0m\u001b[90m Float64 \u001b[0m\u001b[90m Float64        \u001b[0m\n",
       "─────┼───────────────────────────────────────────\n",
       "   1 │    12.0      5.0     60.0         2.24505\n",
       "   2 │     9.0      7.0     63.0         2.0831\n",
       "   3 │    11.0      5.0     55.0         2.18526\n",
       "   4 │    11.0     11.0    121.0         2.12891\n",
       "   5 │     9.0      9.0     81.0         2.10052\n",
       "   6 │    10.0      8.0     80.0         2.12445\n",
       "   7 │    12.0      4.0     48.0         2.2635\n",
       "   8 │     6.0     10.0     60.0         2.06563\n",
       "   9 │     9.0     10.0     90.0         2.10923\n",
       "  10 │    12.0      2.0     24.0         2.30038\n",
       "  11 │     9.0      2.0     18.0         2.03955\n",
       "  12 │     1.0     11.0     11.0         2.07409\n",
       "  13 │    10.0      6.0     60.0         2.12513\n",
       "  14 │     9.0      4.0     36.0         2.05697\n",
       "  15 │    10.0      9.0     90.0         2.12411"
      ]
     },
     "execution_count": 28,
     "metadata": {},
     "output_type": "execute_result"
    }
   ],
   "source": [
    "hard_qs = first_bucket[sample(axes(first_bucket, 1), 15; replace = false, ordered = false), :]"
   ]
  },
  {
   "cell_type": "code",
   "execution_count": 29,
   "metadata": {},
   "outputs": [
    {
     "data": {
      "text/html": [
       "<table class=\"data-frame\"><thead><tr><th></th><th>m1</th><th>m2</th><th>ans</th><th>predicted_time</th></tr><tr><th></th><th>Float64</th><th>Float64</th><th>Float64</th><th>Float64</th></tr></thead><tbody><p>5 rows × 4 columns</p><tr><th>1</th><td>11.0</td><td>2.0</td><td>22.0</td><td>2.21344</td></tr><tr><th>2</th><td>12.0</td><td>12.0</td><td>144.0</td><td>2.11595</td></tr><tr><th>3</th><td>4.0</td><td>11.0</td><td>44.0</td><td>2.09053</td></tr><tr><th>4</th><td>10.0</td><td>5.0</td><td>50.0</td><td>2.12547</td></tr><tr><th>5</th><td>12.0</td><td>5.0</td><td>60.0</td><td>2.24505</td></tr></tbody></table>"
      ],
      "text/latex": [
       "\\begin{tabular}{r|cccc}\n",
       "\t& m1 & m2 & ans & predicted\\_time\\\\\n",
       "\t\\hline\n",
       "\t& Float64 & Float64 & Float64 & Float64\\\\\n",
       "\t\\hline\n",
       "\t1 & 11.0 & 2.0 & 22.0 & 2.21344 \\\\\n",
       "\t2 & 12.0 & 12.0 & 144.0 & 2.11595 \\\\\n",
       "\t3 & 4.0 & 11.0 & 44.0 & 2.09053 \\\\\n",
       "\t4 & 10.0 & 5.0 & 50.0 & 2.12547 \\\\\n",
       "\t5 & 12.0 & 5.0 & 60.0 & 2.24505 \\\\\n",
       "\\end{tabular}\n"
      ],
      "text/plain": [
       "\u001b[1m5×4 DataFrame\u001b[0m\n",
       "\u001b[1m Row \u001b[0m│\u001b[1m m1      \u001b[0m\u001b[1m m2      \u001b[0m\u001b[1m ans     \u001b[0m\u001b[1m predicted_time \u001b[0m\n",
       "\u001b[1m     \u001b[0m│\u001b[90m Float64 \u001b[0m\u001b[90m Float64 \u001b[0m\u001b[90m Float64 \u001b[0m\u001b[90m Float64        \u001b[0m\n",
       "─────┼───────────────────────────────────────────\n",
       "   1 │    11.0      2.0     22.0         2.21344\n",
       "   2 │    12.0     12.0    144.0         2.11595\n",
       "   3 │     4.0     11.0     44.0         2.09053\n",
       "   4 │    10.0      5.0     50.0         2.12547\n",
       "   5 │    12.0      5.0     60.0         2.24505"
      ]
     },
     "execution_count": 29,
     "metadata": {},
     "output_type": "execute_result"
    }
   ],
   "source": [
    "easy_qs = first_bucket[sample(axes(first_bucket, 1), 5; replace = false, ordered = false), :]"
   ]
  },
  {
   "cell_type": "markdown",
   "metadata": {},
   "source": [
    "## Combine hard_qs and easy_qus in a JSON object"
   ]
  },
  {
   "cell_type": "code",
   "execution_count": 83,
   "metadata": {},
   "outputs": [
    {
     "data": {
      "text/html": [
       "<table class=\"data-frame\"><thead><tr><th></th><th>m1</th><th>m2</th><th>ans</th></tr><tr><th></th><th>Float64</th><th>Float64</th><th>Float64</th></tr></thead><tbody><p>20 rows × 3 columns</p><tr><th>1</th><td>12.0</td><td>5.0</td><td>60.0</td></tr><tr><th>2</th><td>9.0</td><td>7.0</td><td>63.0</td></tr><tr><th>3</th><td>11.0</td><td>5.0</td><td>55.0</td></tr><tr><th>4</th><td>11.0</td><td>11.0</td><td>121.0</td></tr><tr><th>5</th><td>9.0</td><td>9.0</td><td>81.0</td></tr><tr><th>6</th><td>10.0</td><td>8.0</td><td>80.0</td></tr><tr><th>7</th><td>12.0</td><td>4.0</td><td>48.0</td></tr><tr><th>8</th><td>6.0</td><td>10.0</td><td>60.0</td></tr><tr><th>9</th><td>9.0</td><td>10.0</td><td>90.0</td></tr><tr><th>10</th><td>12.0</td><td>2.0</td><td>24.0</td></tr><tr><th>11</th><td>9.0</td><td>2.0</td><td>18.0</td></tr><tr><th>12</th><td>1.0</td><td>11.0</td><td>11.0</td></tr><tr><th>13</th><td>10.0</td><td>6.0</td><td>60.0</td></tr><tr><th>14</th><td>9.0</td><td>4.0</td><td>36.0</td></tr><tr><th>15</th><td>10.0</td><td>9.0</td><td>90.0</td></tr><tr><th>16</th><td>11.0</td><td>2.0</td><td>22.0</td></tr><tr><th>17</th><td>12.0</td><td>12.0</td><td>144.0</td></tr><tr><th>18</th><td>4.0</td><td>11.0</td><td>44.0</td></tr><tr><th>19</th><td>10.0</td><td>5.0</td><td>50.0</td></tr><tr><th>20</th><td>12.0</td><td>5.0</td><td>60.0</td></tr></tbody></table>"
      ],
      "text/latex": [
       "\\begin{tabular}{r|ccc}\n",
       "\t& m1 & m2 & ans\\\\\n",
       "\t\\hline\n",
       "\t& Float64 & Float64 & Float64\\\\\n",
       "\t\\hline\n",
       "\t1 & 12.0 & 5.0 & 60.0 \\\\\n",
       "\t2 & 9.0 & 7.0 & 63.0 \\\\\n",
       "\t3 & 11.0 & 5.0 & 55.0 \\\\\n",
       "\t4 & 11.0 & 11.0 & 121.0 \\\\\n",
       "\t5 & 9.0 & 9.0 & 81.0 \\\\\n",
       "\t6 & 10.0 & 8.0 & 80.0 \\\\\n",
       "\t7 & 12.0 & 4.0 & 48.0 \\\\\n",
       "\t8 & 6.0 & 10.0 & 60.0 \\\\\n",
       "\t9 & 9.0 & 10.0 & 90.0 \\\\\n",
       "\t10 & 12.0 & 2.0 & 24.0 \\\\\n",
       "\t11 & 9.0 & 2.0 & 18.0 \\\\\n",
       "\t12 & 1.0 & 11.0 & 11.0 \\\\\n",
       "\t13 & 10.0 & 6.0 & 60.0 \\\\\n",
       "\t14 & 9.0 & 4.0 & 36.0 \\\\\n",
       "\t15 & 10.0 & 9.0 & 90.0 \\\\\n",
       "\t16 & 11.0 & 2.0 & 22.0 \\\\\n",
       "\t17 & 12.0 & 12.0 & 144.0 \\\\\n",
       "\t18 & 4.0 & 11.0 & 44.0 \\\\\n",
       "\t19 & 10.0 & 5.0 & 50.0 \\\\\n",
       "\t20 & 12.0 & 5.0 & 60.0 \\\\\n",
       "\\end{tabular}\n"
      ],
      "text/plain": [
       "\u001b[1m20×3 DataFrame\u001b[0m\n",
       "\u001b[1m Row \u001b[0m│\u001b[1m m1      \u001b[0m\u001b[1m m2      \u001b[0m\u001b[1m ans     \u001b[0m\n",
       "\u001b[1m     \u001b[0m│\u001b[90m Float64 \u001b[0m\u001b[90m Float64 \u001b[0m\u001b[90m Float64 \u001b[0m\n",
       "─────┼───────────────────────────\n",
       "   1 │    12.0      5.0     60.0\n",
       "   2 │     9.0      7.0     63.0\n",
       "   3 │    11.0      5.0     55.0\n",
       "   4 │    11.0     11.0    121.0\n",
       "   5 │     9.0      9.0     81.0\n",
       "   6 │    10.0      8.0     80.0\n",
       "   7 │    12.0      4.0     48.0\n",
       "   8 │     6.0     10.0     60.0\n",
       "   9 │     9.0     10.0     90.0\n",
       "  10 │    12.0      2.0     24.0\n",
       "  11 │     9.0      2.0     18.0\n",
       "  12 │     1.0     11.0     11.0\n",
       "  13 │    10.0      6.0     60.0\n",
       "  14 │     9.0      4.0     36.0\n",
       "  15 │    10.0      9.0     90.0\n",
       "  16 │    11.0      2.0     22.0\n",
       "  17 │    12.0     12.0    144.0\n",
       "  18 │     4.0     11.0     44.0\n",
       "  19 │    10.0      5.0     50.0\n",
       "  20 │    12.0      5.0     60.0"
      ]
     },
     "execution_count": 83,
     "metadata": {},
     "output_type": "execute_result"
    }
   ],
   "source": [
    "all_qs = vcat(hard_qs, easy_qs)[:, 1:3]"
   ]
  },
  {
   "cell_type": "code",
   "execution_count": 84,
   "metadata": {},
   "outputs": [
    {
     "data": {
      "text/html": [
       "<table class=\"data-frame\"><thead><tr><th></th><th>m1</th><th>m2</th><th>ans</th></tr><tr><th></th><th>Float64</th><th>Float64</th><th>Float64</th></tr></thead><tbody><p>20 rows × 3 columns</p><tr><th>1</th><td>11.0</td><td>11.0</td><td>121.0</td></tr><tr><th>2</th><td>9.0</td><td>7.0</td><td>63.0</td></tr><tr><th>3</th><td>11.0</td><td>5.0</td><td>55.0</td></tr><tr><th>4</th><td>12.0</td><td>5.0</td><td>60.0</td></tr><tr><th>5</th><td>9.0</td><td>10.0</td><td>90.0</td></tr><tr><th>6</th><td>1.0</td><td>11.0</td><td>11.0</td></tr><tr><th>7</th><td>12.0</td><td>12.0</td><td>144.0</td></tr><tr><th>8</th><td>10.0</td><td>9.0</td><td>90.0</td></tr><tr><th>9</th><td>6.0</td><td>10.0</td><td>60.0</td></tr><tr><th>10</th><td>9.0</td><td>9.0</td><td>81.0</td></tr><tr><th>11</th><td>4.0</td><td>11.0</td><td>44.0</td></tr><tr><th>12</th><td>12.0</td><td>2.0</td><td>24.0</td></tr><tr><th>13</th><td>9.0</td><td>2.0</td><td>18.0</td></tr><tr><th>14</th><td>10.0</td><td>5.0</td><td>50.0</td></tr><tr><th>15</th><td>9.0</td><td>4.0</td><td>36.0</td></tr><tr><th>16</th><td>12.0</td><td>4.0</td><td>48.0</td></tr><tr><th>17</th><td>10.0</td><td>6.0</td><td>60.0</td></tr><tr><th>18</th><td>12.0</td><td>5.0</td><td>60.0</td></tr><tr><th>19</th><td>11.0</td><td>2.0</td><td>22.0</td></tr><tr><th>20</th><td>10.0</td><td>8.0</td><td>80.0</td></tr></tbody></table>"
      ],
      "text/latex": [
       "\\begin{tabular}{r|ccc}\n",
       "\t& m1 & m2 & ans\\\\\n",
       "\t\\hline\n",
       "\t& Float64 & Float64 & Float64\\\\\n",
       "\t\\hline\n",
       "\t1 & 11.0 & 11.0 & 121.0 \\\\\n",
       "\t2 & 9.0 & 7.0 & 63.0 \\\\\n",
       "\t3 & 11.0 & 5.0 & 55.0 \\\\\n",
       "\t4 & 12.0 & 5.0 & 60.0 \\\\\n",
       "\t5 & 9.0 & 10.0 & 90.0 \\\\\n",
       "\t6 & 1.0 & 11.0 & 11.0 \\\\\n",
       "\t7 & 12.0 & 12.0 & 144.0 \\\\\n",
       "\t8 & 10.0 & 9.0 & 90.0 \\\\\n",
       "\t9 & 6.0 & 10.0 & 60.0 \\\\\n",
       "\t10 & 9.0 & 9.0 & 81.0 \\\\\n",
       "\t11 & 4.0 & 11.0 & 44.0 \\\\\n",
       "\t12 & 12.0 & 2.0 & 24.0 \\\\\n",
       "\t13 & 9.0 & 2.0 & 18.0 \\\\\n",
       "\t14 & 10.0 & 5.0 & 50.0 \\\\\n",
       "\t15 & 9.0 & 4.0 & 36.0 \\\\\n",
       "\t16 & 12.0 & 4.0 & 48.0 \\\\\n",
       "\t17 & 10.0 & 6.0 & 60.0 \\\\\n",
       "\t18 & 12.0 & 5.0 & 60.0 \\\\\n",
       "\t19 & 11.0 & 2.0 & 22.0 \\\\\n",
       "\t20 & 10.0 & 8.0 & 80.0 \\\\\n",
       "\\end{tabular}\n"
      ],
      "text/plain": [
       "\u001b[1m20×3 DataFrame\u001b[0m\n",
       "\u001b[1m Row \u001b[0m│\u001b[1m m1      \u001b[0m\u001b[1m m2      \u001b[0m\u001b[1m ans     \u001b[0m\n",
       "\u001b[1m     \u001b[0m│\u001b[90m Float64 \u001b[0m\u001b[90m Float64 \u001b[0m\u001b[90m Float64 \u001b[0m\n",
       "─────┼───────────────────────────\n",
       "   1 │    11.0     11.0    121.0\n",
       "   2 │     9.0      7.0     63.0\n",
       "   3 │    11.0      5.0     55.0\n",
       "   4 │    12.0      5.0     60.0\n",
       "   5 │     9.0     10.0     90.0\n",
       "   6 │     1.0     11.0     11.0\n",
       "   7 │    12.0     12.0    144.0\n",
       "   8 │    10.0      9.0     90.0\n",
       "   9 │     6.0     10.0     60.0\n",
       "  10 │     9.0      9.0     81.0\n",
       "  11 │     4.0     11.0     44.0\n",
       "  12 │    12.0      2.0     24.0\n",
       "  13 │     9.0      2.0     18.0\n",
       "  14 │    10.0      5.0     50.0\n",
       "  15 │     9.0      4.0     36.0\n",
       "  16 │    12.0      4.0     48.0\n",
       "  17 │    10.0      6.0     60.0\n",
       "  18 │    12.0      5.0     60.0\n",
       "  19 │    11.0      2.0     22.0\n",
       "  20 │    10.0      8.0     80.0"
      ]
     },
     "execution_count": 84,
     "metadata": {},
     "output_type": "execute_result"
    }
   ],
   "source": [
    "all_qs[shuffle(1:size(all_qs, 1)),:]"
   ]
  },
  {
   "cell_type": "code",
   "execution_count": 38,
   "metadata": {},
   "outputs": [],
   "source": [
    "#Pkg.add(\"JSON\")\n",
    "using JSON"
   ]
  },
  {
   "cell_type": "code",
   "execution_count": 40,
   "metadata": {},
   "outputs": [
    {
     "data": {
      "text/plain": [
       "df2json (generic function with 1 method)"
      ]
     },
     "execution_count": 40,
     "metadata": {},
     "output_type": "execute_result"
    }
   ],
   "source": [
    "function df2json(df::DataFrame)\n",
    "  len = length(df[:,1])\n",
    "  indices = names(df)\n",
    "  jsonarray = [Dict([string(index) => (isna(df[index][i]) ? nothing : df[index][i])\n",
    "                     for index in indices])\n",
    "               for i in 1:len]\n",
    "  return JSON.json(jsonarray)\n",
    "end"
   ]
  },
  {
   "cell_type": "code",
   "execution_count": 85,
   "metadata": {},
   "outputs": [
    {
     "data": {
      "text/plain": [
       "3-element Vector{String}:\n",
       " \"m1\"\n",
       " \"m2\"\n",
       " \"ans\""
      ]
     },
     "execution_count": 85,
     "metadata": {},
     "output_type": "execute_result"
    }
   ],
   "source": [
    "len = length(all_qs[:,1])\n",
    "indices = names(all_qs)"
   ]
  },
  {
   "cell_type": "code",
   "execution_count": 87,
   "metadata": {},
   "outputs": [
    {
     "data": {
      "text/plain": [
       "20-element Vector{Dict{String, Int64}}:\n",
       " Dict(\"m2\" => 5, \"m1\" => 12, \"ans\" => 60)\n",
       " Dict(\"m2\" => 7, \"m1\" => 9, \"ans\" => 63)\n",
       " Dict(\"m2\" => 5, \"m1\" => 11, \"ans\" => 55)\n",
       " Dict(\"m2\" => 11, \"m1\" => 11, \"ans\" => 121)\n",
       " Dict(\"m2\" => 9, \"m1\" => 9, \"ans\" => 81)\n",
       " Dict(\"m2\" => 8, \"m1\" => 10, \"ans\" => 80)\n",
       " Dict(\"m2\" => 4, \"m1\" => 12, \"ans\" => 48)\n",
       " Dict(\"m2\" => 10, \"m1\" => 6, \"ans\" => 60)\n",
       " Dict(\"m2\" => 10, \"m1\" => 9, \"ans\" => 90)\n",
       " Dict(\"m2\" => 2, \"m1\" => 12, \"ans\" => 24)\n",
       " Dict(\"m2\" => 2, \"m1\" => 9, \"ans\" => 18)\n",
       " Dict(\"m2\" => 11, \"m1\" => 1, \"ans\" => 11)\n",
       " Dict(\"m2\" => 6, \"m1\" => 10, \"ans\" => 60)\n",
       " Dict(\"m2\" => 4, \"m1\" => 9, \"ans\" => 36)\n",
       " Dict(\"m2\" => 9, \"m1\" => 10, \"ans\" => 90)\n",
       " Dict(\"m2\" => 2, \"m1\" => 11, \"ans\" => 22)\n",
       " Dict(\"m2\" => 12, \"m1\" => 12, \"ans\" => 144)\n",
       " Dict(\"m2\" => 11, \"m1\" => 4, \"ans\" => 44)\n",
       " Dict(\"m2\" => 5, \"m1\" => 10, \"ans\" => 50)\n",
       " Dict(\"m2\" => 5, \"m1\" => 12, \"ans\" => 60)"
      ]
     },
     "execution_count": 87,
     "metadata": {},
     "output_type": "execute_result"
    }
   ],
   "source": [
    "dic = [Dict([string(index) => Int(all_qs[!,index][i])\n",
    "                     for index in indices])\n",
    "               for i in 1:len]"
   ]
  },
  {
   "cell_type": "code",
   "execution_count": 89,
   "metadata": {},
   "outputs": [
    {
     "data": {
      "text/plain": [
       "\"[{\\\"m2\\\":5,\\\"m1\\\":12,\\\"ans\\\":60},{\\\"m2\\\":7,\\\"m1\\\":9,\\\"ans\\\":63},{\\\"m2\\\":5,\\\"m1\\\":11,\\\"ans\\\":55},{\\\"m2\\\":11,\\\"m1\\\":11,\\\"ans\\\":121},{\\\"m2\\\":9,\\\"m1\\\":9,\\\"ans\\\":81},{\\\"m2\\\":8,\\\"m1\\\":10,\\\"ans\\\":80},{\\\"m2\\\":4,\\\"m1\\\":12,\\\"ans\\\":48},{\\\"m2\\\":10,\\\"m1\\\":6,\\\"ans\\\":60},{\\\"m2\\\":10,\\\"m1\\\":9,\\\"ans\\\":90},{\\\"m2\\\":2,\\\"m1\\\":12,\\\"ans\\\":24},{\\\"m2\\\":2,\\\"m1\\\":9,\\\"ans\\\":18},{\\\"m2\\\":11,\\\"m1\\\":1,\\\"ans\\\":11},{\\\"m2\\\":6,\\\"m1\\\":10,\\\"ans\\\":60},{\\\"m2\\\":4,\\\"m1\\\":9,\\\"ans\\\":36},{\\\"m2\\\":9,\\\"m1\\\":10,\\\"ans\\\":90},{\\\"m2\\\":2,\\\"m1\\\":11,\\\"ans\\\":22},{\\\"m2\\\":12,\\\"m1\\\":12,\\\"ans\\\":144},{\\\"m2\\\":11,\\\"m1\\\":4,\\\"ans\\\":44},{\\\"m2\\\":5,\\\"m1\\\":10,\\\"ans\\\":50},{\\\"m2\\\":5,\\\"m1\\\":12,\\\"ans\\\":60}]\""
      ]
     },
     "execution_count": 89,
     "metadata": {},
     "output_type": "execute_result"
    }
   ],
   "source": [
    "# return this\n",
    "JSON.json(dic)"
   ]
  },
  {
   "cell_type": "code",
   "execution_count": null,
   "metadata": {},
   "outputs": [],
   "source": []
  }
 ],
 "metadata": {
  "kernelspec": {
   "display_name": "Julia 1.6.0",
   "language": "julia",
   "name": "julia-1.6"
  },
  "language_info": {
   "file_extension": ".jl",
   "mimetype": "application/julia",
   "name": "julia",
   "version": "1.6.0"
  }
 },
 "nbformat": 4,
 "nbformat_minor": 2
}
