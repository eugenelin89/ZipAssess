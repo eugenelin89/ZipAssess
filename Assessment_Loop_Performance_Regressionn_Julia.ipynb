{
 "cells": [
  {
   "cell_type": "code",
   "execution_count": 1,
   "metadata": {},
   "outputs": [],
   "source": [
    "using Pkg"
   ]
  },
  {
   "cell_type": "code",
   "execution_count": 2,
   "metadata": {},
   "outputs": [
    {
     "name": "stderr",
     "output_type": "stream",
     "text": [
      "\u001b[32m\u001b[1m Activating\u001b[22m\u001b[39m environment at `~/.julia/environments/MLJ_tour/Project.toml`\n"
     ]
    },
    {
     "name": "stdout",
     "output_type": "stream",
     "text": [
      "\u001b[32m\u001b[1mStatus\u001b[22m\u001b[39m `~/.julia/environments/MLJ_tour/Project.toml`\n",
      " \u001b[90m [f6006082] \u001b[39m\u001b[37mEvoTrees v0.6.0\u001b[39m\n",
      " \u001b[90m [add582a8] \u001b[39m\u001b[37mMLJ v0.16.0\u001b[39m\n",
      " \u001b[90m [c6f25543] \u001b[39m\u001b[37mMLJDecisionTreeInterface v0.1.1\u001b[39m\n",
      " \u001b[90m [caf8df21] \u001b[39m\u001b[37mMLJGLMInterface v0.1.3\u001b[39m\n",
      " \u001b[90m [ce6b1742] \u001b[39m\u001b[37mRDatasets v0.7.4\u001b[39m\n"
     ]
    }
   ],
   "source": [
    "Pkg.activate(\"MLJ_tour\", shared=true)\n",
    "Pkg.status()"
   ]
  },
  {
   "cell_type": "code",
   "execution_count": 3,
   "metadata": {},
   "outputs": [
    {
     "name": "stderr",
     "output_type": "stream",
     "text": [
      "┌ Info: Precompiling MLJ [add582a8-e3ab-11e8-2d5e-e98b27df1bc7]\n",
      "└ @ Base loading.jl:1278\n"
     ]
    }
   ],
   "source": [
    "using CSV\n",
    "using DataFrames\n",
    "using MLJ"
   ]
  },
  {
   "cell_type": "code",
   "execution_count": 4,
   "metadata": {},
   "outputs": [
    {
     "data": {
      "text/html": [
       "<table class=\"data-frame\"><thead><tr><th></th><th>id</th><th>name</th><th>date_time</th><th>m1</th><th>m2</th><th>ans</th><th>time</th></tr><tr><th></th><th>Float64</th><th>String</th><th>String</th><th>Int64</th><th>Int64</th><th>Int64</th><th>Float64</th></tr></thead><tbody><p>727 rows × 8 columns (omitted printing of 1 columns)</p><tr><th>1</th><td>1.61249e9</td><td>Christopher</td><td>Fri 05 Feb 2021 01:33:52 +0000</td><td>7</td><td>7</td><td>49</td><td>2.64397</td></tr><tr><th>2</th><td>1.61249e9</td><td>Christopher</td><td>Fri 05 Feb 2021 01:33:53 +0000</td><td>7</td><td>11</td><td>77</td><td>1.30433</td></tr><tr><th>3</th><td>1.61249e9</td><td>Christopher</td><td>Fri 05 Feb 2021 01:33:54 +0000</td><td>4</td><td>2</td><td>8</td><td>1.25995</td></tr><tr><th>4</th><td>1.61249e9</td><td>Christopher</td><td>Fri 05 Feb 2021 01:33:56 +0000</td><td>11</td><td>5</td><td>55</td><td>1.51882</td></tr><tr><th>5</th><td>1.61249e9</td><td>Christopher</td><td>Fri 05 Feb 2021 01:33:58 +0000</td><td>10</td><td>11</td><td>110</td><td>1.59772</td></tr><tr><th>6</th><td>1.61249e9</td><td>Christopher</td><td>Fri 05 Feb 2021 01:33:59 +0000</td><td>11</td><td>8</td><td>88</td><td>1.59758</td></tr><tr><th>7</th><td>1.61249e9</td><td>Christopher</td><td>Fri 05 Feb 2021 01:34:01 +0000</td><td>7</td><td>5</td><td>35</td><td>2.14842</td></tr><tr><th>8</th><td>1.61249e9</td><td>Christopher</td><td>Fri 05 Feb 2021 01:34:03 +0000</td><td>2</td><td>6</td><td>12</td><td>1.61996</td></tr><tr><th>9</th><td>1.61249e9</td><td>Christopher</td><td>Fri 05 Feb 2021 01:34:05 +0000</td><td>1</td><td>8</td><td>8</td><td>1.63119</td></tr><tr><th>10</th><td>1.61249e9</td><td>Christopher</td><td>Fri 05 Feb 2021 01:34:06 +0000</td><td>1</td><td>9</td><td>9</td><td>1.26017</td></tr><tr><th>11</th><td>1.61249e9</td><td>Christopher</td><td>Fri 05 Feb 2021 01:34:08 +0000</td><td>2</td><td>3</td><td>6</td><td>2.20503</td></tr><tr><th>12</th><td>1.61249e9</td><td>Christopher</td><td>Fri 05 Feb 2021 01:34:10 +0000</td><td>2</td><td>10</td><td>20</td><td>1.52994</td></tr><tr><th>13</th><td>1.61249e9</td><td>Christopher</td><td>Fri 05 Feb 2021 01:34:14 +0000</td><td>7</td><td>6</td><td>42</td><td>3.97109</td></tr><tr><th>14</th><td>1.61249e9</td><td>Christopher</td><td>Fri 05 Feb 2021 01:34:15 +0000</td><td>9</td><td>11</td><td>99</td><td>1.3953</td></tr><tr><th>15</th><td>1.61249e9</td><td>Christopher</td><td>Fri 05 Feb 2021 01:34:18 +0000</td><td>7</td><td>8</td><td>56</td><td>3.4536</td></tr><tr><th>16</th><td>1.61249e9</td><td>Christopher</td><td>Fri 05 Feb 2021 01:34:20 +0000</td><td>7</td><td>10</td><td>70</td><td>1.54134</td></tr><tr><th>17</th><td>1.61249e9</td><td>Christopher</td><td>Fri 05 Feb 2021 01:34:22 +0000</td><td>3</td><td>9</td><td>27</td><td>2.22737</td></tr><tr><th>18</th><td>1.61249e9</td><td>Christopher</td><td>Fri 05 Feb 2021 01:34:24 +0000</td><td>10</td><td>8</td><td>80</td><td>1.79975</td></tr><tr><th>19</th><td>1.61249e9</td><td>Christopher</td><td>Fri 05 Feb 2021 01:34:25 +0000</td><td>5</td><td>1</td><td>5</td><td>1.32746</td></tr><tr><th>20</th><td>1.61249e9</td><td>Christopher</td><td>Fri 05 Feb 2021 01:34:28 +0000</td><td>7</td><td>9</td><td>63</td><td>2.31767</td></tr><tr><th>21</th><td>1.61249e9</td><td>Christopher</td><td>Fri 05 Feb 2021 01:34:37 +0000</td><td>12</td><td>11</td><td>132</td><td>1.85621</td></tr><tr><th>22</th><td>1.61249e9</td><td>Christopher</td><td>Fri 05 Feb 2021 01:34:47 +0000</td><td>8</td><td>6</td><td>48</td><td>9.30383</td></tr><tr><th>23</th><td>1.61249e9</td><td>Christopher</td><td>Fri 05 Feb 2021 01:34:50 +0000</td><td>11</td><td>11</td><td>121</td><td>3.00407</td></tr><tr><th>24</th><td>1.61249e9</td><td>Christopher</td><td>Fri 05 Feb 2021 01:34:52 +0000</td><td>7</td><td>12</td><td>84</td><td>2.63241</td></tr><tr><th>25</th><td>1.61249e9</td><td>Christopher</td><td>Fri 05 Feb 2021 01:34:56 +0000</td><td>3</td><td>12</td><td>36</td><td>3.28536</td></tr><tr><th>26</th><td>1.61249e9</td><td>Christopher</td><td>Fri 05 Feb 2021 01:34:57 +0000</td><td>8</td><td>11</td><td>88</td><td>1.33856</td></tr><tr><th>27</th><td>1.61249e9</td><td>Christopher</td><td>Fri 05 Feb 2021 01:34:58 +0000</td><td>5</td><td>1</td><td>5</td><td>1.10233</td></tr><tr><th>28</th><td>1.61249e9</td><td>Christopher</td><td>Fri 05 Feb 2021 01:35:00 +0000</td><td>10</td><td>9</td><td>90</td><td>1.48525</td></tr><tr><th>29</th><td>1.61249e9</td><td>Christopher</td><td>Fri 05 Feb 2021 01:35:01 +0000</td><td>5</td><td>11</td><td>55</td><td>1.34977</td></tr><tr><th>30</th><td>1.61249e9</td><td>Christopher</td><td>Fri 05 Feb 2021 01:35:02 +0000</td><td>3</td><td>11</td><td>33</td><td>1.1699</td></tr><tr><th>&vellip;</th><td>&vellip;</td><td>&vellip;</td><td>&vellip;</td><td>&vellip;</td><td>&vellip;</td><td>&vellip;</td><td>&vellip;</td></tr></tbody></table>"
      ],
      "text/latex": [
       "\\begin{tabular}{r|cccccccc}\n",
       "\t& id & name & date\\_time & m1 & m2 & ans & time & \\\\\n",
       "\t\\hline\n",
       "\t& Float64 & String & String & Int64 & Int64 & Int64 & Float64 & \\\\\n",
       "\t\\hline\n",
       "\t1 & 1.61249e9 & Christopher & Fri 05 Feb 2021 01:33:52 +0000 & 7 & 7 & 49 & 2.64397 & $\\dots$ \\\\\n",
       "\t2 & 1.61249e9 & Christopher & Fri 05 Feb 2021 01:33:53 +0000 & 7 & 11 & 77 & 1.30433 & $\\dots$ \\\\\n",
       "\t3 & 1.61249e9 & Christopher & Fri 05 Feb 2021 01:33:54 +0000 & 4 & 2 & 8 & 1.25995 & $\\dots$ \\\\\n",
       "\t4 & 1.61249e9 & Christopher & Fri 05 Feb 2021 01:33:56 +0000 & 11 & 5 & 55 & 1.51882 & $\\dots$ \\\\\n",
       "\t5 & 1.61249e9 & Christopher & Fri 05 Feb 2021 01:33:58 +0000 & 10 & 11 & 110 & 1.59772 & $\\dots$ \\\\\n",
       "\t6 & 1.61249e9 & Christopher & Fri 05 Feb 2021 01:33:59 +0000 & 11 & 8 & 88 & 1.59758 & $\\dots$ \\\\\n",
       "\t7 & 1.61249e9 & Christopher & Fri 05 Feb 2021 01:34:01 +0000 & 7 & 5 & 35 & 2.14842 & $\\dots$ \\\\\n",
       "\t8 & 1.61249e9 & Christopher & Fri 05 Feb 2021 01:34:03 +0000 & 2 & 6 & 12 & 1.61996 & $\\dots$ \\\\\n",
       "\t9 & 1.61249e9 & Christopher & Fri 05 Feb 2021 01:34:05 +0000 & 1 & 8 & 8 & 1.63119 & $\\dots$ \\\\\n",
       "\t10 & 1.61249e9 & Christopher & Fri 05 Feb 2021 01:34:06 +0000 & 1 & 9 & 9 & 1.26017 & $\\dots$ \\\\\n",
       "\t11 & 1.61249e9 & Christopher & Fri 05 Feb 2021 01:34:08 +0000 & 2 & 3 & 6 & 2.20503 & $\\dots$ \\\\\n",
       "\t12 & 1.61249e9 & Christopher & Fri 05 Feb 2021 01:34:10 +0000 & 2 & 10 & 20 & 1.52994 & $\\dots$ \\\\\n",
       "\t13 & 1.61249e9 & Christopher & Fri 05 Feb 2021 01:34:14 +0000 & 7 & 6 & 42 & 3.97109 & $\\dots$ \\\\\n",
       "\t14 & 1.61249e9 & Christopher & Fri 05 Feb 2021 01:34:15 +0000 & 9 & 11 & 99 & 1.3953 & $\\dots$ \\\\\n",
       "\t15 & 1.61249e9 & Christopher & Fri 05 Feb 2021 01:34:18 +0000 & 7 & 8 & 56 & 3.4536 & $\\dots$ \\\\\n",
       "\t16 & 1.61249e9 & Christopher & Fri 05 Feb 2021 01:34:20 +0000 & 7 & 10 & 70 & 1.54134 & $\\dots$ \\\\\n",
       "\t17 & 1.61249e9 & Christopher & Fri 05 Feb 2021 01:34:22 +0000 & 3 & 9 & 27 & 2.22737 & $\\dots$ \\\\\n",
       "\t18 & 1.61249e9 & Christopher & Fri 05 Feb 2021 01:34:24 +0000 & 10 & 8 & 80 & 1.79975 & $\\dots$ \\\\\n",
       "\t19 & 1.61249e9 & Christopher & Fri 05 Feb 2021 01:34:25 +0000 & 5 & 1 & 5 & 1.32746 & $\\dots$ \\\\\n",
       "\t20 & 1.61249e9 & Christopher & Fri 05 Feb 2021 01:34:28 +0000 & 7 & 9 & 63 & 2.31767 & $\\dots$ \\\\\n",
       "\t21 & 1.61249e9 & Christopher & Fri 05 Feb 2021 01:34:37 +0000 & 12 & 11 & 132 & 1.85621 & $\\dots$ \\\\\n",
       "\t22 & 1.61249e9 & Christopher & Fri 05 Feb 2021 01:34:47 +0000 & 8 & 6 & 48 & 9.30383 & $\\dots$ \\\\\n",
       "\t23 & 1.61249e9 & Christopher & Fri 05 Feb 2021 01:34:50 +0000 & 11 & 11 & 121 & 3.00407 & $\\dots$ \\\\\n",
       "\t24 & 1.61249e9 & Christopher & Fri 05 Feb 2021 01:34:52 +0000 & 7 & 12 & 84 & 2.63241 & $\\dots$ \\\\\n",
       "\t25 & 1.61249e9 & Christopher & Fri 05 Feb 2021 01:34:56 +0000 & 3 & 12 & 36 & 3.28536 & $\\dots$ \\\\\n",
       "\t26 & 1.61249e9 & Christopher & Fri 05 Feb 2021 01:34:57 +0000 & 8 & 11 & 88 & 1.33856 & $\\dots$ \\\\\n",
       "\t27 & 1.61249e9 & Christopher & Fri 05 Feb 2021 01:34:58 +0000 & 5 & 1 & 5 & 1.10233 & $\\dots$ \\\\\n",
       "\t28 & 1.61249e9 & Christopher & Fri 05 Feb 2021 01:35:00 +0000 & 10 & 9 & 90 & 1.48525 & $\\dots$ \\\\\n",
       "\t29 & 1.61249e9 & Christopher & Fri 05 Feb 2021 01:35:01 +0000 & 5 & 11 & 55 & 1.34977 & $\\dots$ \\\\\n",
       "\t30 & 1.61249e9 & Christopher & Fri 05 Feb 2021 01:35:02 +0000 & 3 & 11 & 33 & 1.1699 & $\\dots$ \\\\\n",
       "\t$\\dots$ & $\\dots$ & $\\dots$ & $\\dots$ & $\\dots$ & $\\dots$ & $\\dots$ & $\\dots$ &  \\\\\n",
       "\\end{tabular}\n"
      ],
      "text/plain": [
       "\u001b[1m727×8 DataFrame\u001b[0m\n",
       "\u001b[1m Row \u001b[0m│\u001b[1m id        \u001b[0m\u001b[1m name        \u001b[0m\u001b[1m date_time                      \u001b[0m\u001b[1m m1    \u001b[0m\u001b[1m m2    \u001b[0m\u001b[1m a\u001b[0m ⋯\n",
       "\u001b[1m     \u001b[0m│\u001b[90m Float64   \u001b[0m\u001b[90m String      \u001b[0m\u001b[90m String                         \u001b[0m\u001b[90m Int64 \u001b[0m\u001b[90m Int64 \u001b[0m\u001b[90m I\u001b[0m ⋯\n",
       "─────┼──────────────────────────────────────────────────────────────────────────\n",
       "   1 │ 1.61249e9  Christopher  Fri 05 Feb 2021 01:33:52 +0000      7      7    ⋯\n",
       "   2 │ 1.61249e9  Christopher  Fri 05 Feb 2021 01:33:53 +0000      7     11\n",
       "   3 │ 1.61249e9  Christopher  Fri 05 Feb 2021 01:33:54 +0000      4      2\n",
       "   4 │ 1.61249e9  Christopher  Fri 05 Feb 2021 01:33:56 +0000     11      5\n",
       "   5 │ 1.61249e9  Christopher  Fri 05 Feb 2021 01:33:58 +0000     10     11    ⋯\n",
       "   6 │ 1.61249e9  Christopher  Fri 05 Feb 2021 01:33:59 +0000     11      8\n",
       "   7 │ 1.61249e9  Christopher  Fri 05 Feb 2021 01:34:01 +0000      7      5\n",
       "   8 │ 1.61249e9  Christopher  Fri 05 Feb 2021 01:34:03 +0000      2      6\n",
       "   9 │ 1.61249e9  Christopher  Fri 05 Feb 2021 01:34:05 +0000      1      8    ⋯\n",
       "  10 │ 1.61249e9  Christopher  Fri 05 Feb 2021 01:34:06 +0000      1      9\n",
       "  11 │ 1.61249e9  Christopher  Fri 05 Feb 2021 01:34:08 +0000      2      3\n",
       "  ⋮  │     ⋮           ⋮                     ⋮                   ⋮      ⋮      ⋱\n",
       " 718 │ 1.61249e9  Christopher  Fri 05 Feb 2021 02:13:29 +0000      1      5\n",
       " 719 │ 1.61249e9  Christopher  Fri 05 Feb 2021 02:13:33 +0000     12      4    ⋯\n",
       " 720 │ 1.61249e9  Christopher  Fri 05 Feb 2021 02:13:35 +0000      1      8\n",
       " 721 │ 1.61249e9  Christopher  Fri 05 Feb 2021 02:13:36 +0000      5      4\n",
       " 722 │ 1.61249e9  Christopher  Fri 05 Feb 2021 02:13:38 +0000      3     11\n",
       " 723 │ 1.61249e9  Christopher  Fri 05 Feb 2021 02:13:39 +0000      1      1    ⋯\n",
       " 724 │ 1.61249e9  Christopher  Fri 05 Feb 2021 02:13:41 +0000      4      4\n",
       " 725 │ 1.61249e9  Christopher  Fri 05 Feb 2021 02:13:44 +0000      8      4\n",
       " 726 │ 1.61249e9  Christopher  Fri 05 Feb 2021 02:13:47 +0000      5     10\n",
       " 727 │ 1.61249e9  Christopher  Fri 05 Feb 2021 02:13:49 +0000      5     10    ⋯\n",
       "\u001b[36m                                                  3 columns and 706 rows omitted\u001b[0m"
      ]
     },
     "execution_count": 4,
     "metadata": {},
     "output_type": "execute_result"
    }
   ],
   "source": [
    "df = DataFrame(CSV.File(\"christopher.csv\", header=[\"id\", \"name\",\"date_time\",\"m1\",\"m2\",\"ans\",\"time\",\"cor\"]))"
   ]
  },
  {
   "cell_type": "code",
   "execution_count": 5,
   "metadata": {},
   "outputs": [
    {
     "data": {
      "text/html": [
       "<table class=\"data-frame\"><thead><tr><th></th><th>m1</th><th>m2</th><th>ans</th><th>time</th></tr><tr><th></th><th>Int64</th><th>Int64</th><th>Int64</th><th>Float64</th></tr></thead><tbody><p>727 rows × 4 columns</p><tr><th>1</th><td>7</td><td>7</td><td>49</td><td>2.64397</td></tr><tr><th>2</th><td>7</td><td>11</td><td>77</td><td>1.30433</td></tr><tr><th>3</th><td>4</td><td>2</td><td>8</td><td>1.25995</td></tr><tr><th>4</th><td>11</td><td>5</td><td>55</td><td>1.51882</td></tr><tr><th>5</th><td>10</td><td>11</td><td>110</td><td>1.59772</td></tr><tr><th>6</th><td>11</td><td>8</td><td>88</td><td>1.59758</td></tr><tr><th>7</th><td>7</td><td>5</td><td>35</td><td>2.14842</td></tr><tr><th>8</th><td>2</td><td>6</td><td>12</td><td>1.61996</td></tr><tr><th>9</th><td>1</td><td>8</td><td>8</td><td>1.63119</td></tr><tr><th>10</th><td>1</td><td>9</td><td>9</td><td>1.26017</td></tr><tr><th>11</th><td>2</td><td>3</td><td>6</td><td>2.20503</td></tr><tr><th>12</th><td>2</td><td>10</td><td>20</td><td>1.52994</td></tr><tr><th>13</th><td>7</td><td>6</td><td>42</td><td>3.97109</td></tr><tr><th>14</th><td>9</td><td>11</td><td>99</td><td>1.3953</td></tr><tr><th>15</th><td>7</td><td>8</td><td>56</td><td>3.4536</td></tr><tr><th>16</th><td>7</td><td>10</td><td>70</td><td>1.54134</td></tr><tr><th>17</th><td>3</td><td>9</td><td>27</td><td>2.22737</td></tr><tr><th>18</th><td>10</td><td>8</td><td>80</td><td>1.79975</td></tr><tr><th>19</th><td>5</td><td>1</td><td>5</td><td>1.32746</td></tr><tr><th>20</th><td>7</td><td>9</td><td>63</td><td>2.31767</td></tr><tr><th>21</th><td>12</td><td>11</td><td>132</td><td>1.85621</td></tr><tr><th>22</th><td>8</td><td>6</td><td>48</td><td>9.30383</td></tr><tr><th>23</th><td>11</td><td>11</td><td>121</td><td>3.00407</td></tr><tr><th>24</th><td>7</td><td>12</td><td>84</td><td>2.63241</td></tr><tr><th>25</th><td>3</td><td>12</td><td>36</td><td>3.28536</td></tr><tr><th>26</th><td>8</td><td>11</td><td>88</td><td>1.33856</td></tr><tr><th>27</th><td>5</td><td>1</td><td>5</td><td>1.10233</td></tr><tr><th>28</th><td>10</td><td>9</td><td>90</td><td>1.48525</td></tr><tr><th>29</th><td>5</td><td>11</td><td>55</td><td>1.34977</td></tr><tr><th>30</th><td>3</td><td>11</td><td>33</td><td>1.1699</td></tr><tr><th>&vellip;</th><td>&vellip;</td><td>&vellip;</td><td>&vellip;</td><td>&vellip;</td></tr></tbody></table>"
      ],
      "text/latex": [
       "\\begin{tabular}{r|cccc}\n",
       "\t& m1 & m2 & ans & time\\\\\n",
       "\t\\hline\n",
       "\t& Int64 & Int64 & Int64 & Float64\\\\\n",
       "\t\\hline\n",
       "\t1 & 7 & 7 & 49 & 2.64397 \\\\\n",
       "\t2 & 7 & 11 & 77 & 1.30433 \\\\\n",
       "\t3 & 4 & 2 & 8 & 1.25995 \\\\\n",
       "\t4 & 11 & 5 & 55 & 1.51882 \\\\\n",
       "\t5 & 10 & 11 & 110 & 1.59772 \\\\\n",
       "\t6 & 11 & 8 & 88 & 1.59758 \\\\\n",
       "\t7 & 7 & 5 & 35 & 2.14842 \\\\\n",
       "\t8 & 2 & 6 & 12 & 1.61996 \\\\\n",
       "\t9 & 1 & 8 & 8 & 1.63119 \\\\\n",
       "\t10 & 1 & 9 & 9 & 1.26017 \\\\\n",
       "\t11 & 2 & 3 & 6 & 2.20503 \\\\\n",
       "\t12 & 2 & 10 & 20 & 1.52994 \\\\\n",
       "\t13 & 7 & 6 & 42 & 3.97109 \\\\\n",
       "\t14 & 9 & 11 & 99 & 1.3953 \\\\\n",
       "\t15 & 7 & 8 & 56 & 3.4536 \\\\\n",
       "\t16 & 7 & 10 & 70 & 1.54134 \\\\\n",
       "\t17 & 3 & 9 & 27 & 2.22737 \\\\\n",
       "\t18 & 10 & 8 & 80 & 1.79975 \\\\\n",
       "\t19 & 5 & 1 & 5 & 1.32746 \\\\\n",
       "\t20 & 7 & 9 & 63 & 2.31767 \\\\\n",
       "\t21 & 12 & 11 & 132 & 1.85621 \\\\\n",
       "\t22 & 8 & 6 & 48 & 9.30383 \\\\\n",
       "\t23 & 11 & 11 & 121 & 3.00407 \\\\\n",
       "\t24 & 7 & 12 & 84 & 2.63241 \\\\\n",
       "\t25 & 3 & 12 & 36 & 3.28536 \\\\\n",
       "\t26 & 8 & 11 & 88 & 1.33856 \\\\\n",
       "\t27 & 5 & 1 & 5 & 1.10233 \\\\\n",
       "\t28 & 10 & 9 & 90 & 1.48525 \\\\\n",
       "\t29 & 5 & 11 & 55 & 1.34977 \\\\\n",
       "\t30 & 3 & 11 & 33 & 1.1699 \\\\\n",
       "\t$\\dots$ & $\\dots$ & $\\dots$ & $\\dots$ & $\\dots$ \\\\\n",
       "\\end{tabular}\n"
      ],
      "text/plain": [
       "\u001b[1m727×4 DataFrame\u001b[0m\n",
       "\u001b[1m Row \u001b[0m│\u001b[1m m1    \u001b[0m\u001b[1m m2    \u001b[0m\u001b[1m ans   \u001b[0m\u001b[1m time     \u001b[0m\n",
       "\u001b[1m     \u001b[0m│\u001b[90m Int64 \u001b[0m\u001b[90m Int64 \u001b[0m\u001b[90m Int64 \u001b[0m\u001b[90m Float64  \u001b[0m\n",
       "─────┼───────────────────────────────\n",
       "   1 │     7      7     49  2.64397\n",
       "   2 │     7     11     77  1.30433\n",
       "   3 │     4      2      8  1.25995\n",
       "   4 │    11      5     55  1.51882\n",
       "   5 │    10     11    110  1.59772\n",
       "   6 │    11      8     88  1.59758\n",
       "   7 │     7      5     35  2.14842\n",
       "   8 │     2      6     12  1.61996\n",
       "   9 │     1      8      8  1.63119\n",
       "  10 │     1      9      9  1.26017\n",
       "  11 │     2      3      6  2.20503\n",
       "  ⋮  │   ⋮      ⋮      ⋮       ⋮\n",
       " 718 │     1      5      5  1.04604\n",
       " 719 │    12      4     48  4.10689\n",
       " 720 │     1      8      8  1.50682\n",
       " 721 │     5      4     20  1.474\n",
       " 722 │     3     11     33  1.36092\n",
       " 723 │     1      1      1  0.866332\n",
       " 724 │     4      4     16  2.44131\n",
       " 725 │     8      4     32  2.87997\n",
       " 726 │     5     10     50  2.92505\n",
       " 727 │     5     10     50  2.0586\n",
       "\u001b[36m                     706 rows omitted\u001b[0m"
      ]
     },
     "execution_count": 5,
     "metadata": {},
     "output_type": "execute_result"
    }
   ],
   "source": [
    "df_time = df[:, 4:7]"
   ]
  },
  {
   "cell_type": "code",
   "execution_count": 6,
   "metadata": {},
   "outputs": [
    {
     "data": {
      "text/plain": [
       "┌─────────┬─────────┬────────────┐\n",
       "│\u001b[22m _.names \u001b[0m│\u001b[22m _.types \u001b[0m│\u001b[22m _.scitypes \u001b[0m│\n",
       "├─────────┼─────────┼────────────┤\n",
       "│ m1      │ Int64   │ Count      │\n",
       "│ m2      │ Int64   │ Count      │\n",
       "│ ans     │ Int64   │ Count      │\n",
       "│ time    │ Float64 │ Continuous │\n",
       "└─────────┴─────────┴────────────┘\n",
       "_.nrows = 727\n"
      ]
     },
     "execution_count": 6,
     "metadata": {},
     "output_type": "execute_result"
    }
   ],
   "source": [
    "schema(df_time)"
   ]
  },
  {
   "cell_type": "code",
   "execution_count": 7,
   "metadata": {},
   "outputs": [
    {
     "data": {
      "text/html": [
       "<table class=\"data-frame\"><thead><tr><th></th><th>m1</th><th>m2</th><th>ans</th><th>time</th></tr><tr><th></th><th>Int64</th><th>Int64</th><th>Int64</th><th>Float64</th></tr></thead><tbody><p>10 rows × 4 columns</p><tr><th>1</th><td>7</td><td>7</td><td>49</td><td>2.64397</td></tr><tr><th>2</th><td>7</td><td>11</td><td>77</td><td>1.30433</td></tr><tr><th>3</th><td>4</td><td>2</td><td>8</td><td>1.25995</td></tr><tr><th>4</th><td>11</td><td>5</td><td>55</td><td>1.51882</td></tr><tr><th>5</th><td>10</td><td>11</td><td>110</td><td>1.59772</td></tr><tr><th>6</th><td>11</td><td>8</td><td>88</td><td>1.59758</td></tr><tr><th>7</th><td>7</td><td>5</td><td>35</td><td>2.14842</td></tr><tr><th>8</th><td>2</td><td>6</td><td>12</td><td>1.61996</td></tr><tr><th>9</th><td>1</td><td>8</td><td>8</td><td>1.63119</td></tr><tr><th>10</th><td>1</td><td>9</td><td>9</td><td>1.26017</td></tr></tbody></table>"
      ],
      "text/latex": [
       "\\begin{tabular}{r|cccc}\n",
       "\t& m1 & m2 & ans & time\\\\\n",
       "\t\\hline\n",
       "\t& Int64 & Int64 & Int64 & Float64\\\\\n",
       "\t\\hline\n",
       "\t1 & 7 & 7 & 49 & 2.64397 \\\\\n",
       "\t2 & 7 & 11 & 77 & 1.30433 \\\\\n",
       "\t3 & 4 & 2 & 8 & 1.25995 \\\\\n",
       "\t4 & 11 & 5 & 55 & 1.51882 \\\\\n",
       "\t5 & 10 & 11 & 110 & 1.59772 \\\\\n",
       "\t6 & 11 & 8 & 88 & 1.59758 \\\\\n",
       "\t7 & 7 & 5 & 35 & 2.14842 \\\\\n",
       "\t8 & 2 & 6 & 12 & 1.61996 \\\\\n",
       "\t9 & 1 & 8 & 8 & 1.63119 \\\\\n",
       "\t10 & 1 & 9 & 9 & 1.26017 \\\\\n",
       "\\end{tabular}\n"
      ],
      "text/plain": [
       "\u001b[1m10×4 DataFrame\u001b[0m\n",
       "\u001b[1m Row \u001b[0m│\u001b[1m m1    \u001b[0m\u001b[1m m2    \u001b[0m\u001b[1m ans   \u001b[0m\u001b[1m time    \u001b[0m\n",
       "\u001b[1m     \u001b[0m│\u001b[90m Int64 \u001b[0m\u001b[90m Int64 \u001b[0m\u001b[90m Int64 \u001b[0m\u001b[90m Float64 \u001b[0m\n",
       "─────┼──────────────────────────────\n",
       "   1 │     7      7     49  2.64397\n",
       "   2 │     7     11     77  1.30433\n",
       "   3 │     4      2      8  1.25995\n",
       "   4 │    11      5     55  1.51882\n",
       "   5 │    10     11    110  1.59772\n",
       "   6 │    11      8     88  1.59758\n",
       "   7 │     7      5     35  2.14842\n",
       "   8 │     2      6     12  1.61996\n",
       "   9 │     1      8      8  1.63119\n",
       "  10 │     1      9      9  1.26017"
      ]
     },
     "execution_count": 7,
     "metadata": {},
     "output_type": "execute_result"
    }
   ],
   "source": [
    "first(df_time, 10)"
   ]
  },
  {
   "cell_type": "code",
   "execution_count": 8,
   "metadata": {},
   "outputs": [
    {
     "data": {
      "text/plain": [
       "┌─────────┬─────────┬────────────┐\n",
       "│\u001b[22m _.names \u001b[0m│\u001b[22m _.types \u001b[0m│\u001b[22m _.scitypes \u001b[0m│\n",
       "├─────────┼─────────┼────────────┤\n",
       "│ m1      │ Float64 │ Continuous │\n",
       "│ m2      │ Float64 │ Continuous │\n",
       "│ ans     │ Float64 │ Continuous │\n",
       "│ time    │ Float64 │ Continuous │\n",
       "└─────────┴─────────┴────────────┘\n",
       "_.nrows = 727\n"
      ]
     },
     "execution_count": 8,
     "metadata": {},
     "output_type": "execute_result"
    }
   ],
   "source": [
    "coerce!(df_time, Count => Continuous);\n",
    "schema(df_time)"
   ]
  },
  {
   "cell_type": "code",
   "execution_count": 9,
   "metadata": {},
   "outputs": [],
   "source": [
    "y, X = unpack(df_time, ==(:time), name->true; rng=123);"
   ]
  },
  {
   "cell_type": "code",
   "execution_count": 10,
   "metadata": {},
   "outputs": [
    {
     "data": {
      "text/plain": [
       "Array{Float64,1}"
      ]
     },
     "execution_count": 10,
     "metadata": {},
     "output_type": "execute_result"
    }
   ],
   "source": [
    "typeof(y)"
   ]
  },
  {
   "cell_type": "code",
   "execution_count": 11,
   "metadata": {},
   "outputs": [
    {
     "name": "stdout",
     "output_type": "stream",
     "text": [
      "ConstantRegressor             (MLJModels)\n",
      "EvoTreeGaussian               (EvoTrees)\n",
      "LinearRegressor               (GLM)\n"
     ]
    }
   ],
   "source": [
    "for m in models(matching(X, y))\n",
    "    if m.prediction_type == :probabilistic\n",
    "        println(rpad(m.name, 30), \"($(m.package_name))\")\n",
    "    end\n",
    "end"
   ]
  },
  {
   "cell_type": "code",
   "execution_count": 12,
   "metadata": {},
   "outputs": [
    {
     "name": "stderr",
     "output_type": "stream",
     "text": [
      "┌ Info: For silent loading, specify `verbosity=0`. \n",
      "└ @ Main /Users/eugenelin/.julia/packages/MLJModels/66QJr/src/loading.jl:168\n"
     ]
    },
    {
     "name": "stdout",
     "output_type": "stream",
     "text": [
      "import MLJGLMInterface"
     ]
    },
    {
     "name": "stderr",
     "output_type": "stream",
     "text": [
      "┌ Info: Precompiling MLJGLMInterface [caf8df21-4939-456d-ac9c-5fefbfb04c0c]\n",
      "└ @ Base loading.jl:1278\n"
     ]
    },
    {
     "name": "stdout",
     "output_type": "stream",
     "text": [
      " ✔\n"
     ]
    },
    {
     "data": {
      "text/plain": [
       "\u001b[35mLinear regressor (OLS) with a Normal model.\u001b[39m\n",
       "\u001b[35m→ based on [GLM](https://github.com/JuliaStats/GLM.jl).\u001b[39m\n",
       "\u001b[35m→ do `@load LinearRegressor pkg=\"GLM\"` to use the model.\u001b[39m\n",
       "\u001b[35m→ do `?LinearRegressor` for documentation.\u001b[39m\n",
       "(name = \"LinearRegressor\",\n",
       " package_name = \"GLM\",\n",
       " is_supervised = true,\n",
       " docstring = \"Linear regressor (OLS) with a Normal model.\\n→ based on [GLM](https://github.com/JuliaStats/GLM.jl).\\n→ do `@load LinearRegressor pkg=\\\"GLM\\\"` to use the model.\\n→ do `?LinearRegressor` for documentation.\",\n",
       " hyperparameter_ranges = (nothing, nothing),\n",
       " hyperparameter_types = (\"Bool\", \"Bool\"),\n",
       " hyperparameters = (:fit_intercept, :allowrankdeficient),\n",
       " implemented_methods = [:predict, :fit],\n",
       " is_pure_julia = true,\n",
       " is_wrapper = false,\n",
       " load_path = \"MLJGLMInterface.LinearRegressor\",\n",
       " package_license = \"MIT\",\n",
       " package_url = \"https://github.com/JuliaStats/GLM.jl\",\n",
       " package_uuid = \"38e38edf-8417-5370-95a0-9cbb8c7f171a\",\n",
       " prediction_type = :probabilistic,\n",
       " supports_class_weights = false,\n",
       " supports_online = false,\n",
       " supports_weights = false,\n",
       " input_scitype = Table{var\"#s45\"} where var\"#s45\"<:(AbstractArray{var\"#s13\",1} where var\"#s13\"<:Continuous),\n",
       " target_scitype = AbstractArray{Continuous,1},\n",
       " output_scitype = Unknown,)"
      ]
     },
     "execution_count": 12,
     "metadata": {},
     "output_type": "execute_result"
    }
   ],
   "source": [
    "#Pkg.add(\"MLJGLMInterface\")\n",
    "model = @load LinearRegressor pkg=\"GLM\" \n",
    "#linear_model = LinearRegressor()\n",
    "info(model)"
   ]
  },
  {
   "cell_type": "code",
   "execution_count": 13,
   "metadata": {},
   "outputs": [
    {
     "data": {
      "text/plain": [
       "MLJGLMInterface.LinearRegressor"
      ]
     },
     "execution_count": 13,
     "metadata": {},
     "output_type": "execute_result"
    }
   ],
   "source": [
    "typeof(model())"
   ]
  },
  {
   "cell_type": "code",
   "execution_count": 14,
   "metadata": {},
   "outputs": [
    {
     "data": {
      "text/plain": [
       "\u001b[34mMachine{LinearRegressor,…} @679\u001b[39m trained 0 times; caches data\n",
       "  args: \n",
       "    1:\t\u001b[34mSource @264\u001b[39m ⏎ `Table{AbstractArray{Continuous,1}}`\n",
       "    2:\t\u001b[34mSource @535\u001b[39m ⏎ `AbstractArray{Continuous,1}`\n"
      ]
     },
     "execution_count": 14,
     "metadata": {},
     "output_type": "execute_result"
    }
   ],
   "source": [
    "m = machine(model(), X, y)"
   ]
  },
  {
   "cell_type": "code",
   "execution_count": 15,
   "metadata": {},
   "outputs": [],
   "source": [
    "#Pkg.add(\"StableRNG\")"
   ]
  },
  {
   "cell_type": "code",
   "execution_count": 16,
   "metadata": {},
   "outputs": [
    {
     "data": {
      "text/plain": [
       "([34, 346, 148, 37, 584, 268, 70, 39, 372, 654  …  4, 324, 444, 551, 587, 223, 687, 520, 124, 141], [3, 603, 512, 110, 725, 399, 90, 617, 135, 379  …  679, 101, 32, 591, 434, 149, 336, 78, 534, 471])"
      ]
     },
     "execution_count": 16,
     "metadata": {},
     "output_type": "execute_result"
    }
   ],
   "source": [
    "#rng = StableRNG(566)\n",
    "train, test = partition(eachindex(y), 0.80, shuffle=true)"
   ]
  },
  {
   "cell_type": "code",
   "execution_count": 17,
   "metadata": {},
   "outputs": [
    {
     "name": "stderr",
     "output_type": "stream",
     "text": [
      "┌ Info: Training \u001b[34mMachine{LinearRegressor,…} @679\u001b[39m.\n",
      "└ @ MLJBase /Users/eugenelin/.julia/packages/MLJBase/DQvvo/src/machines.jl:341\n"
     ]
    },
    {
     "data": {
      "text/plain": [
       "\u001b[34mMachine{LinearRegressor,…} @679\u001b[39m trained 1 time; caches data\n",
       "  args: \n",
       "    1:\t\u001b[34mSource @264\u001b[39m ⏎ `Table{AbstractArray{Continuous,1}}`\n",
       "    2:\t\u001b[34mSource @535\u001b[39m ⏎ `AbstractArray{Continuous,1}`\n"
      ]
     },
     "execution_count": 17,
     "metadata": {},
     "output_type": "execute_result"
    }
   ],
   "source": [
    "fit!(m, rows=train)"
   ]
  },
  {
   "cell_type": "code",
   "execution_count": 18,
   "metadata": {},
   "outputs": [
    {
     "data": {
      "text/plain": [
       "(coef = [0.09605834984448, 0.07986167067507784, -0.006891112291321364],\n",
       " intercept = 1.0593390526967945,)"
      ]
     },
     "execution_count": 18,
     "metadata": {},
     "output_type": "execute_result"
    }
   ],
   "source": [
    "fitted_params(m)"
   ]
  },
  {
   "cell_type": "code",
   "execution_count": 19,
   "metadata": {},
   "outputs": [
    {
     "data": {
      "text/plain": [
       "145-element Array{Distributions.Normal{Float64},1}:\n",
       " Distributions.Normal{Float64}(μ=1.3836146445706248, σ=0.8499866867278021)\n",
       " Distributions.Normal{Float64}(μ=2.1294280287602367, σ=0.8499866867278021)\n",
       " Distributions.Normal{Float64}(μ=2.050400802553197, σ=0.8499866867278021)\n",
       " Distributions.Normal{Float64}(μ=1.3013385193087876, σ=0.8499866867278021)\n",
       " Distributions.Normal{Float64}(μ=2.1443969492798742, σ=0.8499866867278021)\n",
       " Distributions.Normal{Float64}(μ=1.5850369111376656, σ=0.8499866867278021)\n",
       " Distributions.Normal{Float64}(μ=2.120122461882156, σ=0.8499866867278021)\n",
       " Distributions.Normal{Float64}(μ=1.652761338113884, σ=0.8499866867278021)\n",
       " Distributions.Normal{Float64}(μ=1.9847385786947807, σ=0.8499866867278021)\n",
       " Distributions.Normal{Float64}(μ=1.951469713175169, σ=0.8499866867278021)\n",
       " Distributions.Normal{Float64}(μ=2.1443969492798742, σ=0.8499866867278021)\n",
       " Distributions.Normal{Float64}(μ=2.044409105494976, σ=0.8499866867278021)\n",
       " Distributions.Normal{Float64}(μ=1.9214908094231242, σ=0.8499866867278021)\n",
       " ⋮\n",
       " Distributions.Normal{Float64}(μ=1.3836146445706248, σ=0.8499866867278021)\n",
       " Distributions.Normal{Float64}(μ=1.9985857740424857, σ=0.8499866867278021)\n",
       " Distributions.Normal{Float64}(μ=1.9393974402413718, σ=0.8499866867278021)\n",
       " Distributions.Normal{Float64}(μ=1.228367960925031, σ=0.8499866867278021)\n",
       " Distributions.Normal{Float64}(μ=1.228367960925031, σ=0.8499866867278021)\n",
       " Distributions.Normal{Float64}(μ=2.1922175130851045, σ=0.8499866867278021)\n",
       " Distributions.Normal{Float64}(μ=1.9936918941039048, σ=0.8499866867278021)\n",
       " Distributions.Normal{Float64}(μ=1.8525386237971415, σ=0.8499866867278021)\n",
       " Distributions.Normal{Float64}(μ=1.9595475214034859, σ=0.8499866867278021)\n",
       " Distributions.Normal{Float64}(μ=1.5850369111376656, σ=0.8499866867278021)\n",
       " Distributions.Normal{Float64}(μ=1.3013385193087876, σ=0.8499866867278021)\n",
       " Distributions.Normal{Float64}(μ=2.041823646665323, σ=0.8499866867278021)"
      ]
     },
     "execution_count": 19,
     "metadata": {},
     "output_type": "execute_result"
    }
   ],
   "source": [
    "ŷ = predict(m, rows=test)"
   ]
  },
  {
   "cell_type": "code",
   "execution_count": 20,
   "metadata": {},
   "outputs": [
    {
     "data": {
      "text/plain": [
       "(145,)"
      ]
     },
     "execution_count": 20,
     "metadata": {},
     "output_type": "execute_result"
    }
   ],
   "source": [
    "size(ŷ)"
   ]
  },
  {
   "cell_type": "code",
   "execution_count": 21,
   "metadata": {},
   "outputs": [],
   "source": [
    "yhatResponse = [ŷ[i].μ for i in 1:size(ŷ)[1]];"
   ]
  },
  {
   "cell_type": "code",
   "execution_count": 22,
   "metadata": {},
   "outputs": [
    {
     "data": {
      "text/plain": [
       "(145,)"
      ]
     },
     "execution_count": 22,
     "metadata": {},
     "output_type": "execute_result"
    }
   ],
   "source": [
    "size(yhatResponse)"
   ]
  },
  {
   "cell_type": "code",
   "execution_count": 23,
   "metadata": {},
   "outputs": [],
   "source": [
    "residuals = y[test] .- yhatResponse;"
   ]
  },
  {
   "cell_type": "code",
   "execution_count": 24,
   "metadata": {},
   "outputs": [
    {
     "data": {
      "text/plain": [
       "1.122"
      ]
     },
     "execution_count": 24,
     "metadata": {},
     "output_type": "execute_result"
    }
   ],
   "source": [
    "round(rms(yhatResponse, y[test]), sigdigits=4)"
   ]
  },
  {
   "cell_type": "code",
   "execution_count": 25,
   "metadata": {},
   "outputs": [
    {
     "data": {
      "text/plain": [
       "145-element Array{Distributions.Normal{Float64},1}:\n",
       " Distributions.Normal{Float64}(μ=1.3836146445706248, σ=0.8499866867278021)\n",
       " Distributions.Normal{Float64}(μ=2.1294280287602367, σ=0.8499866867278021)\n",
       " Distributions.Normal{Float64}(μ=2.050400802553197, σ=0.8499866867278021)\n",
       " Distributions.Normal{Float64}(μ=1.3013385193087876, σ=0.8499866867278021)\n",
       " Distributions.Normal{Float64}(μ=2.1443969492798742, σ=0.8499866867278021)\n",
       " Distributions.Normal{Float64}(μ=1.5850369111376656, σ=0.8499866867278021)\n",
       " Distributions.Normal{Float64}(μ=2.120122461882156, σ=0.8499866867278021)\n",
       " Distributions.Normal{Float64}(μ=1.652761338113884, σ=0.8499866867278021)\n",
       " Distributions.Normal{Float64}(μ=1.9847385786947807, σ=0.8499866867278021)\n",
       " Distributions.Normal{Float64}(μ=1.951469713175169, σ=0.8499866867278021)\n",
       " Distributions.Normal{Float64}(μ=2.1443969492798742, σ=0.8499866867278021)\n",
       " Distributions.Normal{Float64}(μ=2.044409105494976, σ=0.8499866867278021)\n",
       " Distributions.Normal{Float64}(μ=1.9214908094231242, σ=0.8499866867278021)\n",
       " ⋮\n",
       " Distributions.Normal{Float64}(μ=1.3836146445706248, σ=0.8499866867278021)\n",
       " Distributions.Normal{Float64}(μ=1.9985857740424857, σ=0.8499866867278021)\n",
       " Distributions.Normal{Float64}(μ=1.9393974402413718, σ=0.8499866867278021)\n",
       " Distributions.Normal{Float64}(μ=1.228367960925031, σ=0.8499866867278021)\n",
       " Distributions.Normal{Float64}(μ=1.228367960925031, σ=0.8499866867278021)\n",
       " Distributions.Normal{Float64}(μ=2.1922175130851045, σ=0.8499866867278021)\n",
       " Distributions.Normal{Float64}(μ=1.9936918941039048, σ=0.8499866867278021)\n",
       " Distributions.Normal{Float64}(μ=1.8525386237971415, σ=0.8499866867278021)\n",
       " Distributions.Normal{Float64}(μ=1.9595475214034859, σ=0.8499866867278021)\n",
       " Distributions.Normal{Float64}(μ=1.5850369111376656, σ=0.8499866867278021)\n",
       " Distributions.Normal{Float64}(μ=1.3013385193087876, σ=0.8499866867278021)\n",
       " Distributions.Normal{Float64}(μ=2.041823646665323, σ=0.8499866867278021)"
      ]
     },
     "execution_count": 25,
     "metadata": {},
     "output_type": "execute_result"
    }
   ],
   "source": [
    "predict(m, rows=test)"
   ]
  },
  {
   "cell_type": "code",
   "execution_count": 26,
   "metadata": {},
   "outputs": [
    {
     "name": "stdout",
     "output_type": "stream",
     "text": [
      "search: \u001b[0m\u001b[1mp\u001b[22m\u001b[0m\u001b[1mr\u001b[22m\u001b[0m\u001b[1me\u001b[22m\u001b[0m\u001b[1md\u001b[22m\u001b[0m\u001b[1mi\u001b[22m\u001b[0m\u001b[1mc\u001b[22m\u001b[0m\u001b[1mt\u001b[22m \u001b[0m\u001b[1mp\u001b[22m\u001b[0m\u001b[1mr\u001b[22m\u001b[0m\u001b[1me\u001b[22m\u001b[0m\u001b[1md\u001b[22m\u001b[0m\u001b[1mi\u001b[22m\u001b[0m\u001b[1mc\u001b[22m\u001b[0m\u001b[1mt\u001b[22m_mode \u001b[0m\u001b[1mp\u001b[22m\u001b[0m\u001b[1mr\u001b[22m\u001b[0m\u001b[1me\u001b[22m\u001b[0m\u001b[1md\u001b[22m\u001b[0m\u001b[1mi\u001b[22m\u001b[0m\u001b[1mc\u001b[22m\u001b[0m\u001b[1mt\u001b[22m_mean \u001b[0m\u001b[1mp\u001b[22m\u001b[0m\u001b[1mr\u001b[22m\u001b[0m\u001b[1me\u001b[22m\u001b[0m\u001b[1md\u001b[22m\u001b[0m\u001b[1mi\u001b[22m\u001b[0m\u001b[1mc\u001b[22m\u001b[0m\u001b[1mt\u001b[22m_joint \u001b[0m\u001b[1mp\u001b[22m\u001b[0m\u001b[1mr\u001b[22m\u001b[0m\u001b[1me\u001b[22m\u001b[0m\u001b[1md\u001b[22m\u001b[0m\u001b[1mi\u001b[22m\u001b[0m\u001b[1mc\u001b[22m\u001b[0m\u001b[1mt\u001b[22m_median\n",
      "\n"
     ]
    },
    {
     "data": {
      "text/latex": [
       "\\begin{verbatim}\n",
       "predict(model, fitresult, new_data...)\n",
       "\\end{verbatim}\n",
       "\\texttt{Supervised} models must implement the \\texttt{predict} operation. Here \\texttt{new\\_data} is the output of \\texttt{reformat} called on user-specified data.\n",
       "\n"
      ],
      "text/markdown": [
       "```\n",
       "predict(model, fitresult, new_data...)\n",
       "```\n",
       "\n",
       "`Supervised` models must implement the `predict` operation. Here `new_data` is the output of `reformat` called on user-specified data.\n"
      ],
      "text/plain": [
       "\u001b[36m  predict(model, fitresult, new_data...)\u001b[39m\n",
       "\n",
       "  \u001b[36mSupervised\u001b[39m models must implement the \u001b[36mpredict\u001b[39m operation. Here \u001b[36mnew_data\u001b[39m is the\n",
       "  output of \u001b[36mreformat\u001b[39m called on user-specified data."
      ]
     },
     "execution_count": 26,
     "metadata": {},
     "output_type": "execute_result"
    }
   ],
   "source": [
    "?predict"
   ]
  },
  {
   "cell_type": "code",
   "execution_count": 27,
   "metadata": {},
   "outputs": [
    {
     "data": {
      "text/plain": [
       "727-element Array{Distributions.Normal{Float64},1}:\n",
       " Distributions.Normal{Float64}(μ=1.8096530026432611, σ=0.8499866867278021)\n",
       " Distributions.Normal{Float64}(μ=1.9595475214034859, σ=0.8499866867278021)\n",
       " Distributions.Normal{Float64}(μ=1.3836146445706248, σ=0.8499866867278021)\n",
       " Distributions.Normal{Float64}(μ=1.9783296594025408, σ=0.8499866867278021)\n",
       " Distributions.Normal{Float64}(μ=1.9952308415098567, σ=0.8499866867278021)\n",
       " Distributions.Normal{Float64}(μ=1.9417058613503002, σ=0.8499866867278021)\n",
       " Distributions.Normal{Float64}(μ=1.6004641166040918, σ=0.8499866867278021)\n",
       " Distributions.Normal{Float64}(μ=1.5202501944600568, σ=0.8499866867278021)\n",
       " Distributions.Normal{Float64}(μ=1.9028796756669626, σ=0.8499866867278021)\n",
       " Distributions.Normal{Float64}(μ=1.9595475214034859, σ=0.8499866867278021)\n",
       " Distributions.Normal{Float64}(μ=2.050400802553197, σ=0.8499866867278021)\n",
       " Distributions.Normal{Float64}(μ=2.063724742189051, σ=0.8499866867278021)\n",
       " Distributions.Normal{Float64}(μ=1.9020041684861555, σ=0.8499866867278021)\n",
       " ⋮\n",
       " Distributions.Normal{Float64}(μ=1.9482857848854336, σ=0.8499866867278021)\n",
       " Distributions.Normal{Float64}(μ=1.8120674572300206, σ=0.8499866867278021)\n",
       " Distributions.Normal{Float64}(μ=1.8574735664484916, σ=0.8499866867278021)\n",
       " Distributions.Normal{Float64}(μ=2.2063758971889973, σ=0.8499866867278021)\n",
       " Distributions.Normal{Float64}(μ=2.0527741944271876, σ=0.8499866867278021)\n",
       " Distributions.Normal{Float64}(μ=2.050400802553197, σ=0.8499866867278021)\n",
       " Distributions.Normal{Float64}(μ=1.9214908094231242, σ=0.8499866867278021)\n",
       " Distributions.Normal{Float64}(μ=1.9936918941039048, σ=0.8499866867278021)\n",
       " Distributions.Normal{Float64}(μ=2.016362463330609, σ=0.8499866867278021)\n",
       " Distributions.Normal{Float64}(μ=2.1443969492798742, σ=0.8499866867278021)\n",
       " Distributions.Normal{Float64}(μ=1.7050585596236765, σ=0.8499866867278021)\n",
       " Distributions.Normal{Float64}(μ=2.1443969492798742, σ=0.8499866867278021)"
      ]
     },
     "execution_count": 27,
     "metadata": {},
     "output_type": "execute_result"
    }
   ],
   "source": [
    "predict(m, X)"
   ]
  },
  {
   "cell_type": "code",
   "execution_count": 28,
   "metadata": {},
   "outputs": [
    {
     "data": {
      "text/html": [
       "<table class=\"data-frame\"><thead><tr><th></th><th>m1</th><th>m2</th><th>ans</th></tr><tr><th></th><th>Float64</th><th>Float64</th><th>Float64</th></tr></thead><tbody><p>5 rows × 3 columns</p><tr><th>1</th><td>4.0</td><td>7.0</td><td>28.0</td></tr><tr><th>2</th><td>9.0</td><td>2.0</td><td>18.0</td></tr><tr><th>3</th><td>2.0</td><td>2.0</td><td>4.0</td></tr><tr><th>4</th><td>2.0</td><td>11.0</td><td>22.0</td></tr><tr><th>5</th><td>9.0</td><td>4.0</td><td>36.0</td></tr></tbody></table>"
      ],
      "text/latex": [
       "\\begin{tabular}{r|ccc}\n",
       "\t& m1 & m2 & ans\\\\\n",
       "\t\\hline\n",
       "\t& Float64 & Float64 & Float64\\\\\n",
       "\t\\hline\n",
       "\t1 & 4.0 & 7.0 & 28.0 \\\\\n",
       "\t2 & 9.0 & 2.0 & 18.0 \\\\\n",
       "\t3 & 2.0 & 2.0 & 4.0 \\\\\n",
       "\t4 & 2.0 & 11.0 & 22.0 \\\\\n",
       "\t5 & 9.0 & 4.0 & 36.0 \\\\\n",
       "\\end{tabular}\n"
      ],
      "text/plain": [
       "\u001b[1m5×3 DataFrame\u001b[0m\n",
       "\u001b[1m Row \u001b[0m│\u001b[1m m1      \u001b[0m\u001b[1m m2      \u001b[0m\u001b[1m ans     \u001b[0m\n",
       "\u001b[1m     \u001b[0m│\u001b[90m Float64 \u001b[0m\u001b[90m Float64 \u001b[0m\u001b[90m Float64 \u001b[0m\n",
       "─────┼───────────────────────────\n",
       "   1 │     4.0      7.0     28.0\n",
       "   2 │     9.0      2.0     18.0\n",
       "   3 │     2.0      2.0      4.0\n",
       "   4 │     2.0     11.0     22.0\n",
       "   5 │     9.0      4.0     36.0"
      ]
     },
     "execution_count": 28,
     "metadata": {},
     "output_type": "execute_result"
    }
   ],
   "source": [
    "first(X,5)"
   ]
  },
  {
   "cell_type": "code",
   "execution_count": 29,
   "metadata": {},
   "outputs": [
    {
     "data": {
      "text/html": [
       "<table class=\"data-frame\"><thead><tr><th></th><th>m1</th><th>m2</th><th>ans</th></tr><tr><th></th><th>Float64</th><th>Float64</th><th>Float64</th></tr></thead><tbody><p>0 rows × 3 columns</p></tbody></table>"
      ],
      "text/latex": [
       "\\begin{tabular}{r|ccc}\n",
       "\t& m1 & m2 & ans\\\\\n",
       "\t\\hline\n",
       "\t& Float64 & Float64 & Float64\\\\\n",
       "\t\\hline\n",
       "\\end{tabular}\n"
      ],
      "text/plain": [
       "\u001b[1m0×3 DataFrame\u001b[0m"
      ]
     },
     "execution_count": 29,
     "metadata": {},
     "output_type": "execute_result"
    }
   ],
   "source": [
    "#X12 = DataFrame(m1 = [1,2,3,4,5,6,7,8,9,10,11,12], m2 = 1.0:12.0);\n",
    "X12 = DataFrame(m1=Float64[], m2=Float64[], ans=Float64[])"
   ]
  },
  {
   "cell_type": "code",
   "execution_count": 30,
   "metadata": {},
   "outputs": [],
   "source": [
    "#push!(X12, [9 9 9])\n",
    "\n",
    "for i = 1:12\n",
    "    for j = 1:12\n",
    "       push!(X12, [float(i), float(j), float(i*j)]) \n",
    "    end\n",
    "end\n"
   ]
  },
  {
   "cell_type": "code",
   "execution_count": 31,
   "metadata": {},
   "outputs": [
    {
     "data": {
      "text/html": [
       "<table class=\"data-frame\"><thead><tr><th></th><th>m1</th><th>m2</th><th>ans</th></tr><tr><th></th><th>Float64</th><th>Float64</th><th>Float64</th></tr></thead><tbody><p>144 rows × 3 columns</p><tr><th>1</th><td>1.0</td><td>1.0</td><td>1.0</td></tr><tr><th>2</th><td>1.0</td><td>2.0</td><td>2.0</td></tr><tr><th>3</th><td>1.0</td><td>3.0</td><td>3.0</td></tr><tr><th>4</th><td>1.0</td><td>4.0</td><td>4.0</td></tr><tr><th>5</th><td>1.0</td><td>5.0</td><td>5.0</td></tr><tr><th>6</th><td>1.0</td><td>6.0</td><td>6.0</td></tr><tr><th>7</th><td>1.0</td><td>7.0</td><td>7.0</td></tr><tr><th>8</th><td>1.0</td><td>8.0</td><td>8.0</td></tr><tr><th>9</th><td>1.0</td><td>9.0</td><td>9.0</td></tr><tr><th>10</th><td>1.0</td><td>10.0</td><td>10.0</td></tr><tr><th>11</th><td>1.0</td><td>11.0</td><td>11.0</td></tr><tr><th>12</th><td>1.0</td><td>12.0</td><td>12.0</td></tr><tr><th>13</th><td>2.0</td><td>1.0</td><td>2.0</td></tr><tr><th>14</th><td>2.0</td><td>2.0</td><td>4.0</td></tr><tr><th>15</th><td>2.0</td><td>3.0</td><td>6.0</td></tr><tr><th>16</th><td>2.0</td><td>4.0</td><td>8.0</td></tr><tr><th>17</th><td>2.0</td><td>5.0</td><td>10.0</td></tr><tr><th>18</th><td>2.0</td><td>6.0</td><td>12.0</td></tr><tr><th>19</th><td>2.0</td><td>7.0</td><td>14.0</td></tr><tr><th>20</th><td>2.0</td><td>8.0</td><td>16.0</td></tr><tr><th>21</th><td>2.0</td><td>9.0</td><td>18.0</td></tr><tr><th>22</th><td>2.0</td><td>10.0</td><td>20.0</td></tr><tr><th>23</th><td>2.0</td><td>11.0</td><td>22.0</td></tr><tr><th>24</th><td>2.0</td><td>12.0</td><td>24.0</td></tr><tr><th>25</th><td>3.0</td><td>1.0</td><td>3.0</td></tr><tr><th>26</th><td>3.0</td><td>2.0</td><td>6.0</td></tr><tr><th>27</th><td>3.0</td><td>3.0</td><td>9.0</td></tr><tr><th>28</th><td>3.0</td><td>4.0</td><td>12.0</td></tr><tr><th>29</th><td>3.0</td><td>5.0</td><td>15.0</td></tr><tr><th>30</th><td>3.0</td><td>6.0</td><td>18.0</td></tr><tr><th>&vellip;</th><td>&vellip;</td><td>&vellip;</td><td>&vellip;</td></tr></tbody></table>"
      ],
      "text/latex": [
       "\\begin{tabular}{r|ccc}\n",
       "\t& m1 & m2 & ans\\\\\n",
       "\t\\hline\n",
       "\t& Float64 & Float64 & Float64\\\\\n",
       "\t\\hline\n",
       "\t1 & 1.0 & 1.0 & 1.0 \\\\\n",
       "\t2 & 1.0 & 2.0 & 2.0 \\\\\n",
       "\t3 & 1.0 & 3.0 & 3.0 \\\\\n",
       "\t4 & 1.0 & 4.0 & 4.0 \\\\\n",
       "\t5 & 1.0 & 5.0 & 5.0 \\\\\n",
       "\t6 & 1.0 & 6.0 & 6.0 \\\\\n",
       "\t7 & 1.0 & 7.0 & 7.0 \\\\\n",
       "\t8 & 1.0 & 8.0 & 8.0 \\\\\n",
       "\t9 & 1.0 & 9.0 & 9.0 \\\\\n",
       "\t10 & 1.0 & 10.0 & 10.0 \\\\\n",
       "\t11 & 1.0 & 11.0 & 11.0 \\\\\n",
       "\t12 & 1.0 & 12.0 & 12.0 \\\\\n",
       "\t13 & 2.0 & 1.0 & 2.0 \\\\\n",
       "\t14 & 2.0 & 2.0 & 4.0 \\\\\n",
       "\t15 & 2.0 & 3.0 & 6.0 \\\\\n",
       "\t16 & 2.0 & 4.0 & 8.0 \\\\\n",
       "\t17 & 2.0 & 5.0 & 10.0 \\\\\n",
       "\t18 & 2.0 & 6.0 & 12.0 \\\\\n",
       "\t19 & 2.0 & 7.0 & 14.0 \\\\\n",
       "\t20 & 2.0 & 8.0 & 16.0 \\\\\n",
       "\t21 & 2.0 & 9.0 & 18.0 \\\\\n",
       "\t22 & 2.0 & 10.0 & 20.0 \\\\\n",
       "\t23 & 2.0 & 11.0 & 22.0 \\\\\n",
       "\t24 & 2.0 & 12.0 & 24.0 \\\\\n",
       "\t25 & 3.0 & 1.0 & 3.0 \\\\\n",
       "\t26 & 3.0 & 2.0 & 6.0 \\\\\n",
       "\t27 & 3.0 & 3.0 & 9.0 \\\\\n",
       "\t28 & 3.0 & 4.0 & 12.0 \\\\\n",
       "\t29 & 3.0 & 5.0 & 15.0 \\\\\n",
       "\t30 & 3.0 & 6.0 & 18.0 \\\\\n",
       "\t$\\dots$ & $\\dots$ & $\\dots$ & $\\dots$ \\\\\n",
       "\\end{tabular}\n"
      ],
      "text/plain": [
       "\u001b[1m144×3 DataFrame\u001b[0m\n",
       "\u001b[1m Row \u001b[0m│\u001b[1m m1      \u001b[0m\u001b[1m m2      \u001b[0m\u001b[1m ans     \u001b[0m\n",
       "\u001b[1m     \u001b[0m│\u001b[90m Float64 \u001b[0m\u001b[90m Float64 \u001b[0m\u001b[90m Float64 \u001b[0m\n",
       "─────┼───────────────────────────\n",
       "   1 │     1.0      1.0      1.0\n",
       "   2 │     1.0      2.0      2.0\n",
       "   3 │     1.0      3.0      3.0\n",
       "   4 │     1.0      4.0      4.0\n",
       "   5 │     1.0      5.0      5.0\n",
       "   6 │     1.0      6.0      6.0\n",
       "   7 │     1.0      7.0      7.0\n",
       "   8 │     1.0      8.0      8.0\n",
       "   9 │     1.0      9.0      9.0\n",
       "  10 │     1.0     10.0     10.0\n",
       "  11 │     1.0     11.0     11.0\n",
       "  ⋮  │    ⋮        ⋮        ⋮\n",
       " 135 │    12.0      3.0     36.0\n",
       " 136 │    12.0      4.0     48.0\n",
       " 137 │    12.0      5.0     60.0\n",
       " 138 │    12.0      6.0     72.0\n",
       " 139 │    12.0      7.0     84.0\n",
       " 140 │    12.0      8.0     96.0\n",
       " 141 │    12.0      9.0    108.0\n",
       " 142 │    12.0     10.0    120.0\n",
       " 143 │    12.0     11.0    132.0\n",
       " 144 │    12.0     12.0    144.0\n",
       "\u001b[36m                 123 rows omitted\u001b[0m"
      ]
     },
     "execution_count": 31,
     "metadata": {},
     "output_type": "execute_result"
    }
   ],
   "source": [
    "X12"
   ]
  },
  {
   "cell_type": "code",
   "execution_count": 32,
   "metadata": {},
   "outputs": [],
   "source": [
    "pred = predict(m, X12);"
   ]
  },
  {
   "cell_type": "code",
   "execution_count": 33,
   "metadata": {},
   "outputs": [
    {
     "data": {
      "text/plain": [
       "144-element Array{Float64,1}:\n",
       " 1.228367960925031\n",
       " 1.3013385193087876\n",
       " 1.374309077692544\n",
       " 1.4472796360763003\n",
       " 1.5202501944600568\n",
       " 1.5932207528438134\n",
       " 1.6661913112275697\n",
       " 1.7391618696113262\n",
       " 1.8121324279950828\n",
       " 1.885102986378839\n",
       " 1.9580735447625957\n",
       " 2.0310441031463524\n",
       " 1.3175351984781898\n",
       " ⋮\n",
       " 2.209207574009776\n",
       " 2.2063758971889973\n",
       " 2.2035442203682187\n",
       " 2.20071254354744\n",
       " 2.1978808667266616\n",
       " 2.195049189905883\n",
       " 2.1922175130851045\n",
       " 2.189385836264326\n",
       " 2.1865541594435474\n",
       " 2.183722482622769\n",
       " 2.1808908058019907\n",
       " 2.178059128981212"
      ]
     },
     "execution_count": 33,
     "metadata": {},
     "output_type": "execute_result"
    }
   ],
   "source": [
    "predicted_time = [pred[i].μ for i in 1:size(pred)[1]]  # THIS IS THE RESULT WE WANT"
   ]
  },
  {
   "cell_type": "code",
   "execution_count": 34,
   "metadata": {},
   "outputs": [
    {
     "data": {
      "text/plain": [
       "144-element Array{Float64,1}:\n",
       " 1.228367960925031\n",
       " 1.3013385193087876\n",
       " 1.374309077692544\n",
       " 1.4472796360763003\n",
       " 1.5202501944600568\n",
       " 1.5932207528438134\n",
       " 1.6661913112275697\n",
       " 1.7391618696113262\n",
       " 1.8121324279950828\n",
       " 1.885102986378839\n",
       " 1.9580735447625957\n",
       " 2.0310441031463524\n",
       " 1.3175351984781898\n",
       " ⋮\n",
       " 2.209207574009776\n",
       " 2.2063758971889973\n",
       " 2.2035442203682187\n",
       " 2.20071254354744\n",
       " 2.1978808667266616\n",
       " 2.195049189905883\n",
       " 2.1922175130851045\n",
       " 2.189385836264326\n",
       " 2.1865541594435474\n",
       " 2.183722482622769\n",
       " 2.1808908058019907\n",
       " 2.178059128981212"
      ]
     },
     "execution_count": 34,
     "metadata": {},
     "output_type": "execute_result"
    }
   ],
   "source": [
    "X12.predicted_time = predicted_time"
   ]
  },
  {
   "cell_type": "code",
   "execution_count": 35,
   "metadata": {},
   "outputs": [
    {
     "data": {
      "text/html": [
       "<table class=\"data-frame\"><thead><tr><th></th><th>m1</th><th>m2</th><th>ans</th><th>predicted_time</th></tr><tr><th></th><th>Float64</th><th>Float64</th><th>Float64</th><th>Float64</th></tr></thead><tbody><p>144 rows × 4 columns</p><tr><th>1</th><td>1.0</td><td>1.0</td><td>1.0</td><td>1.22837</td></tr><tr><th>2</th><td>1.0</td><td>2.0</td><td>2.0</td><td>1.30134</td></tr><tr><th>3</th><td>1.0</td><td>3.0</td><td>3.0</td><td>1.37431</td></tr><tr><th>4</th><td>1.0</td><td>4.0</td><td>4.0</td><td>1.44728</td></tr><tr><th>5</th><td>1.0</td><td>5.0</td><td>5.0</td><td>1.52025</td></tr><tr><th>6</th><td>1.0</td><td>6.0</td><td>6.0</td><td>1.59322</td></tr><tr><th>7</th><td>1.0</td><td>7.0</td><td>7.0</td><td>1.66619</td></tr><tr><th>8</th><td>1.0</td><td>8.0</td><td>8.0</td><td>1.73916</td></tr><tr><th>9</th><td>1.0</td><td>9.0</td><td>9.0</td><td>1.81213</td></tr><tr><th>10</th><td>1.0</td><td>10.0</td><td>10.0</td><td>1.8851</td></tr><tr><th>11</th><td>1.0</td><td>11.0</td><td>11.0</td><td>1.95807</td></tr><tr><th>12</th><td>1.0</td><td>12.0</td><td>12.0</td><td>2.03104</td></tr><tr><th>13</th><td>2.0</td><td>1.0</td><td>2.0</td><td>1.31754</td></tr><tr><th>14</th><td>2.0</td><td>2.0</td><td>4.0</td><td>1.38361</td></tr><tr><th>15</th><td>2.0</td><td>3.0</td><td>6.0</td><td>1.44969</td></tr><tr><th>16</th><td>2.0</td><td>4.0</td><td>8.0</td><td>1.51577</td></tr><tr><th>17</th><td>2.0</td><td>5.0</td><td>10.0</td><td>1.58185</td></tr><tr><th>18</th><td>2.0</td><td>6.0</td><td>12.0</td><td>1.64793</td></tr><tr><th>19</th><td>2.0</td><td>7.0</td><td>14.0</td><td>1.71401</td></tr><tr><th>20</th><td>2.0</td><td>8.0</td><td>16.0</td><td>1.78009</td></tr><tr><th>21</th><td>2.0</td><td>9.0</td><td>18.0</td><td>1.84617</td></tr><tr><th>22</th><td>2.0</td><td>10.0</td><td>20.0</td><td>1.91225</td></tr><tr><th>23</th><td>2.0</td><td>11.0</td><td>22.0</td><td>1.97833</td></tr><tr><th>24</th><td>2.0</td><td>12.0</td><td>24.0</td><td>2.04441</td></tr><tr><th>25</th><td>3.0</td><td>1.0</td><td>3.0</td><td>1.4067</td></tr><tr><th>26</th><td>3.0</td><td>2.0</td><td>6.0</td><td>1.46589</td></tr><tr><th>27</th><td>3.0</td><td>3.0</td><td>9.0</td><td>1.52508</td></tr><tr><th>28</th><td>3.0</td><td>4.0</td><td>12.0</td><td>1.58427</td></tr><tr><th>29</th><td>3.0</td><td>5.0</td><td>15.0</td><td>1.64346</td></tr><tr><th>30</th><td>3.0</td><td>6.0</td><td>18.0</td><td>1.70264</td></tr><tr><th>&vellip;</th><td>&vellip;</td><td>&vellip;</td><td>&vellip;</td><td>&vellip;</td></tr></tbody></table>"
      ],
      "text/latex": [
       "\\begin{tabular}{r|cccc}\n",
       "\t& m1 & m2 & ans & predicted\\_time\\\\\n",
       "\t\\hline\n",
       "\t& Float64 & Float64 & Float64 & Float64\\\\\n",
       "\t\\hline\n",
       "\t1 & 1.0 & 1.0 & 1.0 & 1.22837 \\\\\n",
       "\t2 & 1.0 & 2.0 & 2.0 & 1.30134 \\\\\n",
       "\t3 & 1.0 & 3.0 & 3.0 & 1.37431 \\\\\n",
       "\t4 & 1.0 & 4.0 & 4.0 & 1.44728 \\\\\n",
       "\t5 & 1.0 & 5.0 & 5.0 & 1.52025 \\\\\n",
       "\t6 & 1.0 & 6.0 & 6.0 & 1.59322 \\\\\n",
       "\t7 & 1.0 & 7.0 & 7.0 & 1.66619 \\\\\n",
       "\t8 & 1.0 & 8.0 & 8.0 & 1.73916 \\\\\n",
       "\t9 & 1.0 & 9.0 & 9.0 & 1.81213 \\\\\n",
       "\t10 & 1.0 & 10.0 & 10.0 & 1.8851 \\\\\n",
       "\t11 & 1.0 & 11.0 & 11.0 & 1.95807 \\\\\n",
       "\t12 & 1.0 & 12.0 & 12.0 & 2.03104 \\\\\n",
       "\t13 & 2.0 & 1.0 & 2.0 & 1.31754 \\\\\n",
       "\t14 & 2.0 & 2.0 & 4.0 & 1.38361 \\\\\n",
       "\t15 & 2.0 & 3.0 & 6.0 & 1.44969 \\\\\n",
       "\t16 & 2.0 & 4.0 & 8.0 & 1.51577 \\\\\n",
       "\t17 & 2.0 & 5.0 & 10.0 & 1.58185 \\\\\n",
       "\t18 & 2.0 & 6.0 & 12.0 & 1.64793 \\\\\n",
       "\t19 & 2.0 & 7.0 & 14.0 & 1.71401 \\\\\n",
       "\t20 & 2.0 & 8.0 & 16.0 & 1.78009 \\\\\n",
       "\t21 & 2.0 & 9.0 & 18.0 & 1.84617 \\\\\n",
       "\t22 & 2.0 & 10.0 & 20.0 & 1.91225 \\\\\n",
       "\t23 & 2.0 & 11.0 & 22.0 & 1.97833 \\\\\n",
       "\t24 & 2.0 & 12.0 & 24.0 & 2.04441 \\\\\n",
       "\t25 & 3.0 & 1.0 & 3.0 & 1.4067 \\\\\n",
       "\t26 & 3.0 & 2.0 & 6.0 & 1.46589 \\\\\n",
       "\t27 & 3.0 & 3.0 & 9.0 & 1.52508 \\\\\n",
       "\t28 & 3.0 & 4.0 & 12.0 & 1.58427 \\\\\n",
       "\t29 & 3.0 & 5.0 & 15.0 & 1.64346 \\\\\n",
       "\t30 & 3.0 & 6.0 & 18.0 & 1.70264 \\\\\n",
       "\t$\\dots$ & $\\dots$ & $\\dots$ & $\\dots$ & $\\dots$ \\\\\n",
       "\\end{tabular}\n"
      ],
      "text/plain": [
       "\u001b[1m144×4 DataFrame\u001b[0m\n",
       "\u001b[1m Row \u001b[0m│\u001b[1m m1      \u001b[0m\u001b[1m m2      \u001b[0m\u001b[1m ans     \u001b[0m\u001b[1m predicted_time \u001b[0m\n",
       "\u001b[1m     \u001b[0m│\u001b[90m Float64 \u001b[0m\u001b[90m Float64 \u001b[0m\u001b[90m Float64 \u001b[0m\u001b[90m Float64        \u001b[0m\n",
       "─────┼───────────────────────────────────────────\n",
       "   1 │     1.0      1.0      1.0         1.22837\n",
       "   2 │     1.0      2.0      2.0         1.30134\n",
       "   3 │     1.0      3.0      3.0         1.37431\n",
       "   4 │     1.0      4.0      4.0         1.44728\n",
       "   5 │     1.0      5.0      5.0         1.52025\n",
       "   6 │     1.0      6.0      6.0         1.59322\n",
       "   7 │     1.0      7.0      7.0         1.66619\n",
       "   8 │     1.0      8.0      8.0         1.73916\n",
       "   9 │     1.0      9.0      9.0         1.81213\n",
       "  10 │     1.0     10.0     10.0         1.8851\n",
       "  11 │     1.0     11.0     11.0         1.95807\n",
       "  ⋮  │    ⋮        ⋮        ⋮           ⋮\n",
       " 135 │    12.0      3.0     36.0         2.20354\n",
       " 136 │    12.0      4.0     48.0         2.20071\n",
       " 137 │    12.0      5.0     60.0         2.19788\n",
       " 138 │    12.0      6.0     72.0         2.19505\n",
       " 139 │    12.0      7.0     84.0         2.19222\n",
       " 140 │    12.0      8.0     96.0         2.18939\n",
       " 141 │    12.0      9.0    108.0         2.18655\n",
       " 142 │    12.0     10.0    120.0         2.18372\n",
       " 143 │    12.0     11.0    132.0         2.18089\n",
       " 144 │    12.0     12.0    144.0         2.17806\n",
       "\u001b[36m                                 123 rows omitted\u001b[0m"
      ]
     },
     "execution_count": 35,
     "metadata": {},
     "output_type": "execute_result"
    }
   ],
   "source": [
    "X12 # new predicted time"
   ]
  },
  {
   "cell_type": "code",
   "execution_count": 36,
   "metadata": {},
   "outputs": [
    {
     "data": {
      "text/html": [
       "<table class=\"data-frame\"><thead><tr><th></th><th>id</th><th>name</th><th>date_time</th><th>m1</th><th>m2</th><th>ans</th><th>time</th></tr><tr><th></th><th>Float64</th><th>String</th><th>String</th><th>Int64</th><th>Int64</th><th>Int64</th><th>Float64</th></tr></thead><tbody><p>727 rows × 8 columns (omitted printing of 1 columns)</p><tr><th>1</th><td>1.61249e9</td><td>Christopher</td><td>Fri 05 Feb 2021 01:33:52 +0000</td><td>7</td><td>7</td><td>49</td><td>2.64397</td></tr><tr><th>2</th><td>1.61249e9</td><td>Christopher</td><td>Fri 05 Feb 2021 01:33:53 +0000</td><td>7</td><td>11</td><td>77</td><td>1.30433</td></tr><tr><th>3</th><td>1.61249e9</td><td>Christopher</td><td>Fri 05 Feb 2021 01:33:54 +0000</td><td>4</td><td>2</td><td>8</td><td>1.25995</td></tr><tr><th>4</th><td>1.61249e9</td><td>Christopher</td><td>Fri 05 Feb 2021 01:33:56 +0000</td><td>11</td><td>5</td><td>55</td><td>1.51882</td></tr><tr><th>5</th><td>1.61249e9</td><td>Christopher</td><td>Fri 05 Feb 2021 01:33:58 +0000</td><td>10</td><td>11</td><td>110</td><td>1.59772</td></tr><tr><th>6</th><td>1.61249e9</td><td>Christopher</td><td>Fri 05 Feb 2021 01:33:59 +0000</td><td>11</td><td>8</td><td>88</td><td>1.59758</td></tr><tr><th>7</th><td>1.61249e9</td><td>Christopher</td><td>Fri 05 Feb 2021 01:34:01 +0000</td><td>7</td><td>5</td><td>35</td><td>2.14842</td></tr><tr><th>8</th><td>1.61249e9</td><td>Christopher</td><td>Fri 05 Feb 2021 01:34:03 +0000</td><td>2</td><td>6</td><td>12</td><td>1.61996</td></tr><tr><th>9</th><td>1.61249e9</td><td>Christopher</td><td>Fri 05 Feb 2021 01:34:05 +0000</td><td>1</td><td>8</td><td>8</td><td>1.63119</td></tr><tr><th>10</th><td>1.61249e9</td><td>Christopher</td><td>Fri 05 Feb 2021 01:34:06 +0000</td><td>1</td><td>9</td><td>9</td><td>1.26017</td></tr><tr><th>11</th><td>1.61249e9</td><td>Christopher</td><td>Fri 05 Feb 2021 01:34:08 +0000</td><td>2</td><td>3</td><td>6</td><td>2.20503</td></tr><tr><th>12</th><td>1.61249e9</td><td>Christopher</td><td>Fri 05 Feb 2021 01:34:10 +0000</td><td>2</td><td>10</td><td>20</td><td>1.52994</td></tr><tr><th>13</th><td>1.61249e9</td><td>Christopher</td><td>Fri 05 Feb 2021 01:34:14 +0000</td><td>7</td><td>6</td><td>42</td><td>3.97109</td></tr><tr><th>14</th><td>1.61249e9</td><td>Christopher</td><td>Fri 05 Feb 2021 01:34:15 +0000</td><td>9</td><td>11</td><td>99</td><td>1.3953</td></tr><tr><th>15</th><td>1.61249e9</td><td>Christopher</td><td>Fri 05 Feb 2021 01:34:18 +0000</td><td>7</td><td>8</td><td>56</td><td>3.4536</td></tr><tr><th>16</th><td>1.61249e9</td><td>Christopher</td><td>Fri 05 Feb 2021 01:34:20 +0000</td><td>7</td><td>10</td><td>70</td><td>1.54134</td></tr><tr><th>17</th><td>1.61249e9</td><td>Christopher</td><td>Fri 05 Feb 2021 01:34:22 +0000</td><td>3</td><td>9</td><td>27</td><td>2.22737</td></tr><tr><th>18</th><td>1.61249e9</td><td>Christopher</td><td>Fri 05 Feb 2021 01:34:24 +0000</td><td>10</td><td>8</td><td>80</td><td>1.79975</td></tr><tr><th>19</th><td>1.61249e9</td><td>Christopher</td><td>Fri 05 Feb 2021 01:34:25 +0000</td><td>5</td><td>1</td><td>5</td><td>1.32746</td></tr><tr><th>20</th><td>1.61249e9</td><td>Christopher</td><td>Fri 05 Feb 2021 01:34:28 +0000</td><td>7</td><td>9</td><td>63</td><td>2.31767</td></tr><tr><th>21</th><td>1.61249e9</td><td>Christopher</td><td>Fri 05 Feb 2021 01:34:37 +0000</td><td>12</td><td>11</td><td>132</td><td>1.85621</td></tr><tr><th>22</th><td>1.61249e9</td><td>Christopher</td><td>Fri 05 Feb 2021 01:34:47 +0000</td><td>8</td><td>6</td><td>48</td><td>9.30383</td></tr><tr><th>23</th><td>1.61249e9</td><td>Christopher</td><td>Fri 05 Feb 2021 01:34:50 +0000</td><td>11</td><td>11</td><td>121</td><td>3.00407</td></tr><tr><th>24</th><td>1.61249e9</td><td>Christopher</td><td>Fri 05 Feb 2021 01:34:52 +0000</td><td>7</td><td>12</td><td>84</td><td>2.63241</td></tr><tr><th>25</th><td>1.61249e9</td><td>Christopher</td><td>Fri 05 Feb 2021 01:34:56 +0000</td><td>3</td><td>12</td><td>36</td><td>3.28536</td></tr><tr><th>26</th><td>1.61249e9</td><td>Christopher</td><td>Fri 05 Feb 2021 01:34:57 +0000</td><td>8</td><td>11</td><td>88</td><td>1.33856</td></tr><tr><th>27</th><td>1.61249e9</td><td>Christopher</td><td>Fri 05 Feb 2021 01:34:58 +0000</td><td>5</td><td>1</td><td>5</td><td>1.10233</td></tr><tr><th>28</th><td>1.61249e9</td><td>Christopher</td><td>Fri 05 Feb 2021 01:35:00 +0000</td><td>10</td><td>9</td><td>90</td><td>1.48525</td></tr><tr><th>29</th><td>1.61249e9</td><td>Christopher</td><td>Fri 05 Feb 2021 01:35:01 +0000</td><td>5</td><td>11</td><td>55</td><td>1.34977</td></tr><tr><th>30</th><td>1.61249e9</td><td>Christopher</td><td>Fri 05 Feb 2021 01:35:02 +0000</td><td>3</td><td>11</td><td>33</td><td>1.1699</td></tr><tr><th>&vellip;</th><td>&vellip;</td><td>&vellip;</td><td>&vellip;</td><td>&vellip;</td><td>&vellip;</td><td>&vellip;</td><td>&vellip;</td></tr></tbody></table>"
      ],
      "text/latex": [
       "\\begin{tabular}{r|cccccccc}\n",
       "\t& id & name & date\\_time & m1 & m2 & ans & time & \\\\\n",
       "\t\\hline\n",
       "\t& Float64 & String & String & Int64 & Int64 & Int64 & Float64 & \\\\\n",
       "\t\\hline\n",
       "\t1 & 1.61249e9 & Christopher & Fri 05 Feb 2021 01:33:52 +0000 & 7 & 7 & 49 & 2.64397 & $\\dots$ \\\\\n",
       "\t2 & 1.61249e9 & Christopher & Fri 05 Feb 2021 01:33:53 +0000 & 7 & 11 & 77 & 1.30433 & $\\dots$ \\\\\n",
       "\t3 & 1.61249e9 & Christopher & Fri 05 Feb 2021 01:33:54 +0000 & 4 & 2 & 8 & 1.25995 & $\\dots$ \\\\\n",
       "\t4 & 1.61249e9 & Christopher & Fri 05 Feb 2021 01:33:56 +0000 & 11 & 5 & 55 & 1.51882 & $\\dots$ \\\\\n",
       "\t5 & 1.61249e9 & Christopher & Fri 05 Feb 2021 01:33:58 +0000 & 10 & 11 & 110 & 1.59772 & $\\dots$ \\\\\n",
       "\t6 & 1.61249e9 & Christopher & Fri 05 Feb 2021 01:33:59 +0000 & 11 & 8 & 88 & 1.59758 & $\\dots$ \\\\\n",
       "\t7 & 1.61249e9 & Christopher & Fri 05 Feb 2021 01:34:01 +0000 & 7 & 5 & 35 & 2.14842 & $\\dots$ \\\\\n",
       "\t8 & 1.61249e9 & Christopher & Fri 05 Feb 2021 01:34:03 +0000 & 2 & 6 & 12 & 1.61996 & $\\dots$ \\\\\n",
       "\t9 & 1.61249e9 & Christopher & Fri 05 Feb 2021 01:34:05 +0000 & 1 & 8 & 8 & 1.63119 & $\\dots$ \\\\\n",
       "\t10 & 1.61249e9 & Christopher & Fri 05 Feb 2021 01:34:06 +0000 & 1 & 9 & 9 & 1.26017 & $\\dots$ \\\\\n",
       "\t11 & 1.61249e9 & Christopher & Fri 05 Feb 2021 01:34:08 +0000 & 2 & 3 & 6 & 2.20503 & $\\dots$ \\\\\n",
       "\t12 & 1.61249e9 & Christopher & Fri 05 Feb 2021 01:34:10 +0000 & 2 & 10 & 20 & 1.52994 & $\\dots$ \\\\\n",
       "\t13 & 1.61249e9 & Christopher & Fri 05 Feb 2021 01:34:14 +0000 & 7 & 6 & 42 & 3.97109 & $\\dots$ \\\\\n",
       "\t14 & 1.61249e9 & Christopher & Fri 05 Feb 2021 01:34:15 +0000 & 9 & 11 & 99 & 1.3953 & $\\dots$ \\\\\n",
       "\t15 & 1.61249e9 & Christopher & Fri 05 Feb 2021 01:34:18 +0000 & 7 & 8 & 56 & 3.4536 & $\\dots$ \\\\\n",
       "\t16 & 1.61249e9 & Christopher & Fri 05 Feb 2021 01:34:20 +0000 & 7 & 10 & 70 & 1.54134 & $\\dots$ \\\\\n",
       "\t17 & 1.61249e9 & Christopher & Fri 05 Feb 2021 01:34:22 +0000 & 3 & 9 & 27 & 2.22737 & $\\dots$ \\\\\n",
       "\t18 & 1.61249e9 & Christopher & Fri 05 Feb 2021 01:34:24 +0000 & 10 & 8 & 80 & 1.79975 & $\\dots$ \\\\\n",
       "\t19 & 1.61249e9 & Christopher & Fri 05 Feb 2021 01:34:25 +0000 & 5 & 1 & 5 & 1.32746 & $\\dots$ \\\\\n",
       "\t20 & 1.61249e9 & Christopher & Fri 05 Feb 2021 01:34:28 +0000 & 7 & 9 & 63 & 2.31767 & $\\dots$ \\\\\n",
       "\t21 & 1.61249e9 & Christopher & Fri 05 Feb 2021 01:34:37 +0000 & 12 & 11 & 132 & 1.85621 & $\\dots$ \\\\\n",
       "\t22 & 1.61249e9 & Christopher & Fri 05 Feb 2021 01:34:47 +0000 & 8 & 6 & 48 & 9.30383 & $\\dots$ \\\\\n",
       "\t23 & 1.61249e9 & Christopher & Fri 05 Feb 2021 01:34:50 +0000 & 11 & 11 & 121 & 3.00407 & $\\dots$ \\\\\n",
       "\t24 & 1.61249e9 & Christopher & Fri 05 Feb 2021 01:34:52 +0000 & 7 & 12 & 84 & 2.63241 & $\\dots$ \\\\\n",
       "\t25 & 1.61249e9 & Christopher & Fri 05 Feb 2021 01:34:56 +0000 & 3 & 12 & 36 & 3.28536 & $\\dots$ \\\\\n",
       "\t26 & 1.61249e9 & Christopher & Fri 05 Feb 2021 01:34:57 +0000 & 8 & 11 & 88 & 1.33856 & $\\dots$ \\\\\n",
       "\t27 & 1.61249e9 & Christopher & Fri 05 Feb 2021 01:34:58 +0000 & 5 & 1 & 5 & 1.10233 & $\\dots$ \\\\\n",
       "\t28 & 1.61249e9 & Christopher & Fri 05 Feb 2021 01:35:00 +0000 & 10 & 9 & 90 & 1.48525 & $\\dots$ \\\\\n",
       "\t29 & 1.61249e9 & Christopher & Fri 05 Feb 2021 01:35:01 +0000 & 5 & 11 & 55 & 1.34977 & $\\dots$ \\\\\n",
       "\t30 & 1.61249e9 & Christopher & Fri 05 Feb 2021 01:35:02 +0000 & 3 & 11 & 33 & 1.1699 & $\\dots$ \\\\\n",
       "\t$\\dots$ & $\\dots$ & $\\dots$ & $\\dots$ & $\\dots$ & $\\dots$ & $\\dots$ & $\\dots$ &  \\\\\n",
       "\\end{tabular}\n"
      ],
      "text/plain": [
       "\u001b[1m727×8 DataFrame\u001b[0m\n",
       "\u001b[1m Row \u001b[0m│\u001b[1m id        \u001b[0m\u001b[1m name        \u001b[0m\u001b[1m date_time                      \u001b[0m\u001b[1m m1    \u001b[0m\u001b[1m m2    \u001b[0m\u001b[1m a\u001b[0m ⋯\n",
       "\u001b[1m     \u001b[0m│\u001b[90m Float64   \u001b[0m\u001b[90m String      \u001b[0m\u001b[90m String                         \u001b[0m\u001b[90m Int64 \u001b[0m\u001b[90m Int64 \u001b[0m\u001b[90m I\u001b[0m ⋯\n",
       "─────┼──────────────────────────────────────────────────────────────────────────\n",
       "   1 │ 1.61249e9  Christopher  Fri 05 Feb 2021 01:33:52 +0000      7      7    ⋯\n",
       "   2 │ 1.61249e9  Christopher  Fri 05 Feb 2021 01:33:53 +0000      7     11\n",
       "   3 │ 1.61249e9  Christopher  Fri 05 Feb 2021 01:33:54 +0000      4      2\n",
       "   4 │ 1.61249e9  Christopher  Fri 05 Feb 2021 01:33:56 +0000     11      5\n",
       "   5 │ 1.61249e9  Christopher  Fri 05 Feb 2021 01:33:58 +0000     10     11    ⋯\n",
       "   6 │ 1.61249e9  Christopher  Fri 05 Feb 2021 01:33:59 +0000     11      8\n",
       "   7 │ 1.61249e9  Christopher  Fri 05 Feb 2021 01:34:01 +0000      7      5\n",
       "   8 │ 1.61249e9  Christopher  Fri 05 Feb 2021 01:34:03 +0000      2      6\n",
       "   9 │ 1.61249e9  Christopher  Fri 05 Feb 2021 01:34:05 +0000      1      8    ⋯\n",
       "  10 │ 1.61249e9  Christopher  Fri 05 Feb 2021 01:34:06 +0000      1      9\n",
       "  11 │ 1.61249e9  Christopher  Fri 05 Feb 2021 01:34:08 +0000      2      3\n",
       "  ⋮  │     ⋮           ⋮                     ⋮                   ⋮      ⋮      ⋱\n",
       " 718 │ 1.61249e9  Christopher  Fri 05 Feb 2021 02:13:29 +0000      1      5\n",
       " 719 │ 1.61249e9  Christopher  Fri 05 Feb 2021 02:13:33 +0000     12      4    ⋯\n",
       " 720 │ 1.61249e9  Christopher  Fri 05 Feb 2021 02:13:35 +0000      1      8\n",
       " 721 │ 1.61249e9  Christopher  Fri 05 Feb 2021 02:13:36 +0000      5      4\n",
       " 722 │ 1.61249e9  Christopher  Fri 05 Feb 2021 02:13:38 +0000      3     11\n",
       " 723 │ 1.61249e9  Christopher  Fri 05 Feb 2021 02:13:39 +0000      1      1    ⋯\n",
       " 724 │ 1.61249e9  Christopher  Fri 05 Feb 2021 02:13:41 +0000      4      4\n",
       " 725 │ 1.61249e9  Christopher  Fri 05 Feb 2021 02:13:44 +0000      8      4\n",
       " 726 │ 1.61249e9  Christopher  Fri 05 Feb 2021 02:13:47 +0000      5     10\n",
       " 727 │ 1.61249e9  Christopher  Fri 05 Feb 2021 02:13:49 +0000      5     10    ⋯\n",
       "\u001b[36m                                                  3 columns and 706 rows omitted\u001b[0m"
      ]
     },
     "execution_count": 36,
     "metadata": {},
     "output_type": "execute_result"
    }
   ],
   "source": [
    "df"
   ]
  },
  {
   "cell_type": "code",
   "execution_count": 46,
   "metadata": {
    "scrolled": true
   },
   "outputs": [
    {
     "data": {
      "text/html": [
       "<table class=\"data-frame\"><thead><tr><th></th><th>m1</th><th>m2</th><th>ans</th><th>predicted_time</th></tr><tr><th></th><th>Float64</th><th>Float64</th><th>Float64</th><th>Float64</th></tr></thead><tbody><p>144 rows × 4 columns</p><tr><th>1</th><td>12.0</td><td>1.0</td><td>12.0</td><td>2.20921</td></tr><tr><th>2</th><td>12.0</td><td>2.0</td><td>24.0</td><td>2.20638</td></tr><tr><th>3</th><td>12.0</td><td>3.0</td><td>36.0</td><td>2.20354</td></tr><tr><th>4</th><td>12.0</td><td>4.0</td><td>48.0</td><td>2.20071</td></tr><tr><th>5</th><td>12.0</td><td>5.0</td><td>60.0</td><td>2.19788</td></tr><tr><th>6</th><td>12.0</td><td>6.0</td><td>72.0</td><td>2.19505</td></tr><tr><th>7</th><td>12.0</td><td>7.0</td><td>84.0</td><td>2.19222</td></tr><tr><th>8</th><td>12.0</td><td>8.0</td><td>96.0</td><td>2.18939</td></tr><tr><th>9</th><td>12.0</td><td>9.0</td><td>108.0</td><td>2.18655</td></tr><tr><th>10</th><td>12.0</td><td>10.0</td><td>120.0</td><td>2.18372</td></tr><tr><th>11</th><td>12.0</td><td>11.0</td><td>132.0</td><td>2.18089</td></tr><tr><th>12</th><td>12.0</td><td>12.0</td><td>144.0</td><td>2.17806</td></tr><tr><th>13</th><td>11.0</td><td>12.0</td><td>132.0</td><td>2.16469</td></tr><tr><th>14</th><td>11.0</td><td>11.0</td><td>121.0</td><td>2.16063</td></tr><tr><th>15</th><td>11.0</td><td>10.0</td><td>110.0</td><td>2.15658</td></tr><tr><th>16</th><td>11.0</td><td>9.0</td><td>99.0</td><td>2.15252</td></tr><tr><th>17</th><td>10.0</td><td>12.0</td><td>120.0</td><td>2.15133</td></tr><tr><th>18</th><td>11.0</td><td>8.0</td><td>88.0</td><td>2.14846</td></tr><tr><th>19</th><td>11.0</td><td>7.0</td><td>77.0</td><td>2.1444</td></tr><tr><th>20</th><td>10.0</td><td>11.0</td><td>110.0</td><td>2.14038</td></tr><tr><th>21</th><td>11.0</td><td>6.0</td><td>66.0</td><td>2.14034</td></tr><tr><th>22</th><td>9.0</td><td>12.0</td><td>108.0</td><td>2.13796</td></tr><tr><th>23</th><td>11.0</td><td>5.0</td><td>55.0</td><td>2.13628</td></tr><tr><th>24</th><td>11.0</td><td>4.0</td><td>44.0</td><td>2.13222</td></tr><tr><th>25</th><td>10.0</td><td>10.0</td><td>100.0</td><td>2.12943</td></tr><tr><th>26</th><td>11.0</td><td>3.0</td><td>33.0</td><td>2.12816</td></tr><tr><th>27</th><td>8.0</td><td>12.0</td><td>96.0</td><td>2.1246</td></tr><tr><th>28</th><td>11.0</td><td>2.0</td><td>22.0</td><td>2.1241</td></tr><tr><th>29</th><td>9.0</td><td>11.0</td><td>99.0</td><td>2.12012</td></tr><tr><th>30</th><td>11.0</td><td>1.0</td><td>11.0</td><td>2.12004</td></tr><tr><th>&vellip;</th><td>&vellip;</td><td>&vellip;</td><td>&vellip;</td><td>&vellip;</td></tr></tbody></table>"
      ],
      "text/latex": [
       "\\begin{tabular}{r|cccc}\n",
       "\t& m1 & m2 & ans & predicted\\_time\\\\\n",
       "\t\\hline\n",
       "\t& Float64 & Float64 & Float64 & Float64\\\\\n",
       "\t\\hline\n",
       "\t1 & 12.0 & 1.0 & 12.0 & 2.20921 \\\\\n",
       "\t2 & 12.0 & 2.0 & 24.0 & 2.20638 \\\\\n",
       "\t3 & 12.0 & 3.0 & 36.0 & 2.20354 \\\\\n",
       "\t4 & 12.0 & 4.0 & 48.0 & 2.20071 \\\\\n",
       "\t5 & 12.0 & 5.0 & 60.0 & 2.19788 \\\\\n",
       "\t6 & 12.0 & 6.0 & 72.0 & 2.19505 \\\\\n",
       "\t7 & 12.0 & 7.0 & 84.0 & 2.19222 \\\\\n",
       "\t8 & 12.0 & 8.0 & 96.0 & 2.18939 \\\\\n",
       "\t9 & 12.0 & 9.0 & 108.0 & 2.18655 \\\\\n",
       "\t10 & 12.0 & 10.0 & 120.0 & 2.18372 \\\\\n",
       "\t11 & 12.0 & 11.0 & 132.0 & 2.18089 \\\\\n",
       "\t12 & 12.0 & 12.0 & 144.0 & 2.17806 \\\\\n",
       "\t13 & 11.0 & 12.0 & 132.0 & 2.16469 \\\\\n",
       "\t14 & 11.0 & 11.0 & 121.0 & 2.16063 \\\\\n",
       "\t15 & 11.0 & 10.0 & 110.0 & 2.15658 \\\\\n",
       "\t16 & 11.0 & 9.0 & 99.0 & 2.15252 \\\\\n",
       "\t17 & 10.0 & 12.0 & 120.0 & 2.15133 \\\\\n",
       "\t18 & 11.0 & 8.0 & 88.0 & 2.14846 \\\\\n",
       "\t19 & 11.0 & 7.0 & 77.0 & 2.1444 \\\\\n",
       "\t20 & 10.0 & 11.0 & 110.0 & 2.14038 \\\\\n",
       "\t21 & 11.0 & 6.0 & 66.0 & 2.14034 \\\\\n",
       "\t22 & 9.0 & 12.0 & 108.0 & 2.13796 \\\\\n",
       "\t23 & 11.0 & 5.0 & 55.0 & 2.13628 \\\\\n",
       "\t24 & 11.0 & 4.0 & 44.0 & 2.13222 \\\\\n",
       "\t25 & 10.0 & 10.0 & 100.0 & 2.12943 \\\\\n",
       "\t26 & 11.0 & 3.0 & 33.0 & 2.12816 \\\\\n",
       "\t27 & 8.0 & 12.0 & 96.0 & 2.1246 \\\\\n",
       "\t28 & 11.0 & 2.0 & 22.0 & 2.1241 \\\\\n",
       "\t29 & 9.0 & 11.0 & 99.0 & 2.12012 \\\\\n",
       "\t30 & 11.0 & 1.0 & 11.0 & 2.12004 \\\\\n",
       "\t$\\dots$ & $\\dots$ & $\\dots$ & $\\dots$ & $\\dots$ \\\\\n",
       "\\end{tabular}\n"
      ],
      "text/plain": [
       "\u001b[1m144×4 DataFrame\u001b[0m\n",
       "\u001b[1m Row \u001b[0m│\u001b[1m m1      \u001b[0m\u001b[1m m2      \u001b[0m\u001b[1m ans     \u001b[0m\u001b[1m predicted_time \u001b[0m\n",
       "\u001b[1m     \u001b[0m│\u001b[90m Float64 \u001b[0m\u001b[90m Float64 \u001b[0m\u001b[90m Float64 \u001b[0m\u001b[90m Float64        \u001b[0m\n",
       "─────┼───────────────────────────────────────────\n",
       "   1 │    12.0      1.0     12.0         2.20921\n",
       "   2 │    12.0      2.0     24.0         2.20638\n",
       "   3 │    12.0      3.0     36.0         2.20354\n",
       "   4 │    12.0      4.0     48.0         2.20071\n",
       "   5 │    12.0      5.0     60.0         2.19788\n",
       "   6 │    12.0      6.0     72.0         2.19505\n",
       "   7 │    12.0      7.0     84.0         2.19222\n",
       "   8 │    12.0      8.0     96.0         2.18939\n",
       "   9 │    12.0      9.0    108.0         2.18655\n",
       "  10 │    12.0     10.0    120.0         2.18372\n",
       "  11 │    12.0     11.0    132.0         2.18089\n",
       "  ⋮  │    ⋮        ⋮        ⋮           ⋮\n",
       " 135 │     4.0      1.0      4.0         1.49587\n",
       " 136 │     3.0      2.0      6.0         1.46589\n",
       " 137 │     2.0      3.0      6.0         1.44969\n",
       " 138 │     1.0      4.0      4.0         1.44728\n",
       " 139 │     3.0      1.0      3.0         1.4067\n",
       " 140 │     2.0      2.0      4.0         1.38361\n",
       " 141 │     1.0      3.0      3.0         1.37431\n",
       " 142 │     2.0      1.0      2.0         1.31754\n",
       " 143 │     1.0      2.0      2.0         1.30134\n",
       " 144 │     1.0      1.0      1.0         1.22837\n",
       "\u001b[36m                                 123 rows omitted\u001b[0m"
      ]
     },
     "execution_count": 46,
     "metadata": {},
     "output_type": "execute_result"
    }
   ],
   "source": [
    "sort!(X12, rev=true, [:predicted_time])"
   ]
  },
  {
   "cell_type": "code",
   "execution_count": null,
   "metadata": {},
   "outputs": [],
   "source": [
    "# Next: Based on the predicted time (for now, and predicted correctness later), \n",
    "# create something that can be used to generate questions. \n",
    "# For now, easy way:\n",
    "# find the median. Do something like 70% of the question from the first half and 30% of the questions from bottom half.\n"
   ]
  },
  {
   "cell_type": "code",
   "execution_count": 47,
   "metadata": {},
   "outputs": [
    {
     "data": {
      "text/html": [
       "<table class=\"data-frame\"><thead><tr><th></th><th>m1</th><th>m2</th><th>ans</th><th>predicted_time</th></tr><tr><th></th><th>Float64</th><th>Float64</th><th>Float64</th><th>Float64</th></tr></thead><tbody><p>144 rows × 4 columns</p><tr><th>1</th><td>12.0</td><td>1.0</td><td>12.0</td><td>2.20921</td></tr><tr><th>2</th><td>12.0</td><td>2.0</td><td>24.0</td><td>2.20638</td></tr><tr><th>3</th><td>12.0</td><td>3.0</td><td>36.0</td><td>2.20354</td></tr><tr><th>4</th><td>12.0</td><td>4.0</td><td>48.0</td><td>2.20071</td></tr><tr><th>5</th><td>12.0</td><td>5.0</td><td>60.0</td><td>2.19788</td></tr><tr><th>6</th><td>12.0</td><td>6.0</td><td>72.0</td><td>2.19505</td></tr><tr><th>7</th><td>12.0</td><td>7.0</td><td>84.0</td><td>2.19222</td></tr><tr><th>8</th><td>12.0</td><td>8.0</td><td>96.0</td><td>2.18939</td></tr><tr><th>9</th><td>12.0</td><td>9.0</td><td>108.0</td><td>2.18655</td></tr><tr><th>10</th><td>12.0</td><td>10.0</td><td>120.0</td><td>2.18372</td></tr><tr><th>11</th><td>12.0</td><td>11.0</td><td>132.0</td><td>2.18089</td></tr><tr><th>12</th><td>12.0</td><td>12.0</td><td>144.0</td><td>2.17806</td></tr><tr><th>13</th><td>11.0</td><td>12.0</td><td>132.0</td><td>2.16469</td></tr><tr><th>14</th><td>11.0</td><td>11.0</td><td>121.0</td><td>2.16063</td></tr><tr><th>15</th><td>11.0</td><td>10.0</td><td>110.0</td><td>2.15658</td></tr><tr><th>16</th><td>11.0</td><td>9.0</td><td>99.0</td><td>2.15252</td></tr><tr><th>17</th><td>10.0</td><td>12.0</td><td>120.0</td><td>2.15133</td></tr><tr><th>18</th><td>11.0</td><td>8.0</td><td>88.0</td><td>2.14846</td></tr><tr><th>19</th><td>11.0</td><td>7.0</td><td>77.0</td><td>2.1444</td></tr><tr><th>20</th><td>10.0</td><td>11.0</td><td>110.0</td><td>2.14038</td></tr><tr><th>21</th><td>11.0</td><td>6.0</td><td>66.0</td><td>2.14034</td></tr><tr><th>22</th><td>9.0</td><td>12.0</td><td>108.0</td><td>2.13796</td></tr><tr><th>23</th><td>11.0</td><td>5.0</td><td>55.0</td><td>2.13628</td></tr><tr><th>24</th><td>11.0</td><td>4.0</td><td>44.0</td><td>2.13222</td></tr><tr><th>25</th><td>10.0</td><td>10.0</td><td>100.0</td><td>2.12943</td></tr><tr><th>26</th><td>11.0</td><td>3.0</td><td>33.0</td><td>2.12816</td></tr><tr><th>27</th><td>8.0</td><td>12.0</td><td>96.0</td><td>2.1246</td></tr><tr><th>28</th><td>11.0</td><td>2.0</td><td>22.0</td><td>2.1241</td></tr><tr><th>29</th><td>9.0</td><td>11.0</td><td>99.0</td><td>2.12012</td></tr><tr><th>30</th><td>11.0</td><td>1.0</td><td>11.0</td><td>2.12004</td></tr><tr><th>&vellip;</th><td>&vellip;</td><td>&vellip;</td><td>&vellip;</td><td>&vellip;</td></tr></tbody></table>"
      ],
      "text/latex": [
       "\\begin{tabular}{r|cccc}\n",
       "\t& m1 & m2 & ans & predicted\\_time\\\\\n",
       "\t\\hline\n",
       "\t& Float64 & Float64 & Float64 & Float64\\\\\n",
       "\t\\hline\n",
       "\t1 & 12.0 & 1.0 & 12.0 & 2.20921 \\\\\n",
       "\t2 & 12.0 & 2.0 & 24.0 & 2.20638 \\\\\n",
       "\t3 & 12.0 & 3.0 & 36.0 & 2.20354 \\\\\n",
       "\t4 & 12.0 & 4.0 & 48.0 & 2.20071 \\\\\n",
       "\t5 & 12.0 & 5.0 & 60.0 & 2.19788 \\\\\n",
       "\t6 & 12.0 & 6.0 & 72.0 & 2.19505 \\\\\n",
       "\t7 & 12.0 & 7.0 & 84.0 & 2.19222 \\\\\n",
       "\t8 & 12.0 & 8.0 & 96.0 & 2.18939 \\\\\n",
       "\t9 & 12.0 & 9.0 & 108.0 & 2.18655 \\\\\n",
       "\t10 & 12.0 & 10.0 & 120.0 & 2.18372 \\\\\n",
       "\t11 & 12.0 & 11.0 & 132.0 & 2.18089 \\\\\n",
       "\t12 & 12.0 & 12.0 & 144.0 & 2.17806 \\\\\n",
       "\t13 & 11.0 & 12.0 & 132.0 & 2.16469 \\\\\n",
       "\t14 & 11.0 & 11.0 & 121.0 & 2.16063 \\\\\n",
       "\t15 & 11.0 & 10.0 & 110.0 & 2.15658 \\\\\n",
       "\t16 & 11.0 & 9.0 & 99.0 & 2.15252 \\\\\n",
       "\t17 & 10.0 & 12.0 & 120.0 & 2.15133 \\\\\n",
       "\t18 & 11.0 & 8.0 & 88.0 & 2.14846 \\\\\n",
       "\t19 & 11.0 & 7.0 & 77.0 & 2.1444 \\\\\n",
       "\t20 & 10.0 & 11.0 & 110.0 & 2.14038 \\\\\n",
       "\t21 & 11.0 & 6.0 & 66.0 & 2.14034 \\\\\n",
       "\t22 & 9.0 & 12.0 & 108.0 & 2.13796 \\\\\n",
       "\t23 & 11.0 & 5.0 & 55.0 & 2.13628 \\\\\n",
       "\t24 & 11.0 & 4.0 & 44.0 & 2.13222 \\\\\n",
       "\t25 & 10.0 & 10.0 & 100.0 & 2.12943 \\\\\n",
       "\t26 & 11.0 & 3.0 & 33.0 & 2.12816 \\\\\n",
       "\t27 & 8.0 & 12.0 & 96.0 & 2.1246 \\\\\n",
       "\t28 & 11.0 & 2.0 & 22.0 & 2.1241 \\\\\n",
       "\t29 & 9.0 & 11.0 & 99.0 & 2.12012 \\\\\n",
       "\t30 & 11.0 & 1.0 & 11.0 & 2.12004 \\\\\n",
       "\t$\\dots$ & $\\dots$ & $\\dots$ & $\\dots$ & $\\dots$ \\\\\n",
       "\\end{tabular}\n"
      ],
      "text/plain": [
       "\u001b[1m144×4 DataFrame\u001b[0m\n",
       "\u001b[1m Row \u001b[0m│\u001b[1m m1      \u001b[0m\u001b[1m m2      \u001b[0m\u001b[1m ans     \u001b[0m\u001b[1m predicted_time \u001b[0m\n",
       "\u001b[1m     \u001b[0m│\u001b[90m Float64 \u001b[0m\u001b[90m Float64 \u001b[0m\u001b[90m Float64 \u001b[0m\u001b[90m Float64        \u001b[0m\n",
       "─────┼───────────────────────────────────────────\n",
       "   1 │    12.0      1.0     12.0         2.20921\n",
       "   2 │    12.0      2.0     24.0         2.20638\n",
       "   3 │    12.0      3.0     36.0         2.20354\n",
       "   4 │    12.0      4.0     48.0         2.20071\n",
       "   5 │    12.0      5.0     60.0         2.19788\n",
       "   6 │    12.0      6.0     72.0         2.19505\n",
       "   7 │    12.0      7.0     84.0         2.19222\n",
       "   8 │    12.0      8.0     96.0         2.18939\n",
       "   9 │    12.0      9.0    108.0         2.18655\n",
       "  10 │    12.0     10.0    120.0         2.18372\n",
       "  11 │    12.0     11.0    132.0         2.18089\n",
       "  ⋮  │    ⋮        ⋮        ⋮           ⋮\n",
       " 135 │     4.0      1.0      4.0         1.49587\n",
       " 136 │     3.0      2.0      6.0         1.46589\n",
       " 137 │     2.0      3.0      6.0         1.44969\n",
       " 138 │     1.0      4.0      4.0         1.44728\n",
       " 139 │     3.0      1.0      3.0         1.4067\n",
       " 140 │     2.0      2.0      4.0         1.38361\n",
       " 141 │     1.0      3.0      3.0         1.37431\n",
       " 142 │     2.0      1.0      2.0         1.31754\n",
       " 143 │     1.0      2.0      2.0         1.30134\n",
       " 144 │     1.0      1.0      1.0         1.22837\n",
       "\u001b[36m                                 123 rows omitted\u001b[0m"
      ]
     },
     "execution_count": 47,
     "metadata": {},
     "output_type": "execute_result"
    }
   ],
   "source": [
    "X12"
   ]
  },
  {
   "cell_type": "code",
   "execution_count": 49,
   "metadata": {},
   "outputs": [
    {
     "ename": "LoadError",
     "evalue": "MethodError: no method matching +(::DataFrame, ::String)\nClosest candidates are:\n  +(::Any, ::Any, !Matched::Any, !Matched::Any...) at operators.jl:538\n  +(!Matched::ChainRulesCore.One, ::Any) at /Users/eugenelin/.julia/packages/ChainRulesCore/7d1hl/src/differential_arithmetic.jl:94\n  +(!Matched::ChainRulesCore.Zero, ::Any) at /Users/eugenelin/.julia/packages/ChainRulesCore/7d1hl/src/differential_arithmetic.jl:63\n  ...",
     "output_type": "error",
     "traceback": [
      "MethodError: no method matching +(::DataFrame, ::String)\nClosest candidates are:\n  +(::Any, ::Any, !Matched::Any, !Matched::Any...) at operators.jl:538\n  +(!Matched::ChainRulesCore.One, ::Any) at /Users/eugenelin/.julia/packages/ChainRulesCore/7d1hl/src/differential_arithmetic.jl:94\n  +(!Matched::ChainRulesCore.Zero, ::Any) at /Users/eugenelin/.julia/packages/ChainRulesCore/7d1hl/src/differential_arithmetic.jl:63\n  ...",
      "",
      "Stacktrace:",
      " [1] top-level scope at In[49]:1",
      " [2] include_string(::Function, ::Module, ::String, ::String) at ./loading.jl:1091"
     ]
    }
   ],
   "source": [
    "print(X12 + \"\\n\")"
   ]
  },
  {
   "cell_type": "code",
   "execution_count": 53,
   "metadata": {},
   "outputs": [
    {
     "data": {
      "text/plain": [
       "\"144×4 DataFrame\\n Row │ m1       m2       ans      predicted_time\\n     │ Float64  Float64  Float64  Float64\\n─────┼───────────────────────────────────────────\\n   1 │    12.0      1.0     12.0         2.20921\\n   2 │    12.0      2.0     24.0         2.20638\\n   3 │    12.0      3.0     36.0         2.20354\\n   4 │    12.0      4.0     48.0         2.20071\\n   5 │    12.0      5.0     60.0         2.19788\\n   6 │    12.0      6.0     72.0         2.19505\\n   7 │    12.0      7.0     84.0         2.19222\\n   8 │    12.0      8.0     96.0         2.18939\\n   9 │    12.0      9.0    108.0         2.18655\\n  10 │    12.0     10.0    120.0         2.18372\\n  11 │    12.0     11.0    132.0         2.18089\\n  12 │    12.0     12.0    144.0         2.17806\\n  13 │    11.0     12.0    132.0         2.16469\\n  14 │    11.0     11.0    121.0         2.16063\\n  15 │    11.0     10.0    110.0         2.15658\\n  16 │    11.0      9.0     99.0         2.15252\\n  17 │    10.0     12.0    120.0         2.15133\\n  18 │    11.0      8.0     88.0         2.14846\\n  19 │    11.0      7.0     77.0         2.1444\\n  20 │    10.0     11.0    110.0         2.14038\\n  21 │    11.0      6.0     66.0         2.14034\\n  22 │     9.0     12.0    108.0         2.13796\\n  23 │    11.0      5.0     55.0         2.13628\\n  24 │    11.0      4.0     44.0         2.13222\\n  25 │    10.0     10.0    100.0         2.12943\\n  26 │    11.0      3.0     33.0         2.12816\\n  27 │     8.0     12.0     96.0         2.1246\\n  28 │    11.0      2.0     22.0         2.1241\\n  29 │     9.0     11.0     99.0         2.12012\\n  30 │    11.0      1.0     11.0         2.12004\\n  31 │    10.0      9.0     90.0         2.11848\\n  32 │     7.0     12.0     84.0         2.11123\\n  33 │    10.0      8.0     80.0         2.10753\\n  34 │     9.0     10.0     90.0         2.10228\\n  35 │     8.0     11.0     88.0         2.09987\\n  36 │     6.0     12.0     72.0         2.09787\\n  37 │    10.0      7.0     70.0         2.09658\\n  38 │    10.0      6.0     60.0         2.08563\\n  39 │     5.0     12.0     60.0         2.0845\\n  40 │     9.0      9.0     81.0         2.08444\\n  41 │     7.0     11.0     77.0         2.07961\\n  42 │     8.0     10.0     80.0         2.07513\\n  43 │    10.0      5.0     50.0         2.07468\\n  44 │     4.0     12.0     48.0         2.07114\\n  45 │     9.0      8.0     72.0         2.0666\\n  46 │    10.0      4.0     40.0         2.06372\\n  47 │     6.0     11.0     66.0         2.05935\\n  48 │     3.0     12.0     36.0         2.05777\\n  49 │    10.0      3.0     30.0         2.05277\\n  50 │     8.0      9.0     72.0         2.0504\\n  51 │     9.0      7.0     63.0         2.04876\\n  52 │     7.0     10.0     70.0         2.04799\\n  53 │     2.0     12.0     24.0         2.04441\\n  54 │    10.0      2.0     20.0         2.04182\\n  55 │     5.0     11.0     55.0         2.0391\\n  56 │     1.0     12.0     12.0         2.03104\\n  57 │     9.0      6.0     54.0         2.03091\\n  58 │    10.0      1.0     10.0         2.03087\\n  59 │     8.0      8.0     64.0         2.02567\\n  60 │     6.0     10.0     60.0         2.02084\\n  61 │     4.0     11.0     44.0         2.01884\\n  62 │     7.0      9.0     63.0         2.01636\\n  63 │     9.0      5.0     45.0         2.01307\\n  64 │     8.0      7.0     56.0         2.00094\\n  65 │     3.0     11.0     33.0         1.99859\\n  66 │     9.0      4.0     36.0         1.99523\\n  67 │     5.0     10.0     50.0         1.99369\\n  68 │     7.0      8.0     56.0         1.98474\\n  69 │     6.0      9.0     54.0         1.98232\\n  70 │     2.0     11.0     22.0         1.97833\\n  71 │     9.0      3.0     27.0         1.97739\\n  72 │     8.0      6.0     48.0         1.9762\\n  73 │     4.0     10.0     40.0         1.96654\\n  74 │     9.0      2.0     18.0         1.95955\\n  75 │     1.0     11.0     11.0         1.95807\\n  76 │     7.0      7.0     49.0         1.95311\\n  77 │     8.0      5.0     40.0         1.95147\\n  78 │     5.0      9.0     45.0         1.94829\\n  79 │     6.0      8.0     48.0         1.94381\\n  80 │     9.0      1.0      9.0         1.94171\\n  81 │     3.0     10.0     30.0         1.9394\\n  82 │     8.0      4.0     32.0         1.92674\\n  83 │     7.0      6.0     42.0         1.92149\\n  84 │     4.0      9.0     36.0         1.91425\\n  85 │     2.0     10.0     20.0         1.91225\\n  86 │     6.0      7.0     42.0         1.90529\\n  87 │     5.0      8.0     40.0         1.90288\\n  88 │     8.0      3.0     24.0         1.902\\n  89 │     7.0      5.0     35.0         1.88987\\n  90 │     1.0     10.0     10.0         1.8851\\n  91 │     3.0      9.0     27.0         1.88021\\n  92 │     8.0      2.0     16.0         1.87727\\n  93 │     6.0      6.0     36.0         1.86678\\n  94 │     4.0      8.0     32.0         1.86195\\n  95 │     7.0      4.0     28.0         1.85824\\n  96 │     5.0      7.0     35.0         1.85747\\n  97 │     8.0      1.0      8.0         1.85254\\n  98 │     2.0      9.0     18.0         1.84617\\n  99 │     6.0      5.0     30.0         1.82826\\n 100 │     7.0      3.0     21.0         1.82662\\n 101 │     3.0      8.0     24.0         1.82102\\n 102 │     1.0      9.0      9.0         1.81213\\n 103 │     5.0      6.0     30.0         1.81207\\n 104 │     4.0      7.0     28.0         1.80965\\n 105 │     7.0      2.0     14.0         1.795\\n 106 │     6.0      4.0     24.0         1.78975\\n 107 │     2.0      8.0     16.0         1.78009\\n 108 │     5.0      5.0     25.0         1.76666\\n 109 │     7.0      1.0      7.0         1.76337\\n 110 │     3.0      7.0     21.0         1.76183\\n 111 │     4.0      6.0     24.0         1.75736\\n 112 │     6.0      3.0     18.0         1.75123\\n 113 │     1.0      8.0      8.0         1.73916\\n 114 │     5.0      4.0     20.0         1.72126\\n 115 │     2.0      7.0     14.0         1.71401\\n 116 │     6.0      2.0     12.0         1.71272\\n 117 │     4.0      5.0     20.0         1.70506\\n 118 │     3.0      6.0     18.0         1.70264\\n 119 │     5.0      3.0     15.0         1.67585\\n 120 │     6.0      1.0      6.0         1.6742\\n 121 │     1.0      7.0      7.0         1.66619\\n 122 │     4.0      4.0     16.0         1.65276\\n 123 │     2.0      6.0     12.0         1.64793\\n 124 │     3.0      5.0     15.0         1.64346\\n 125 │     5.0      2.0     10.0         1.63044\\n 126 │     4.0      3.0     12.0         1.60046\\n 127 │     1.0      6.0      6.0         1.59322\\n 128 │     5.0      1.0      5.0         1.58504\\n 129 │     3.0      4.0     12.0         1.58427\\n 130 │     2.0      5.0     10.0         1.58185\\n 131 │     4.0      2.0      8.0         1.54817\\n 132 │     3.0      3.0      9.0         1.52508\\n 133 │     1.0      5.0      5.0         1.52025\\n 134 │     2.0      4.0      8.0         1.51577\\n 135 │     4.0      1.0      4.0         1.49587\\n 136 │     3.0      2.0      6.0         1.46589\\n 137 │     2.0      3.0      6.0         1.44969\\n 138 │     1.0      4.0      4.0         1.44728\\n 139 │     3.0      1.0      3.0         1.4067\\n 140 │     2.0      2.0      4.0         1.38361\\n 141 │     1.0      3.0      3.0         1.37431\\n 142 │     2.0      1.0      2.0         1.31754\\n 143 │     1.0      2.0      2.0         1.30134\\n 144 │     1.0      1.0      1.0         1.22837\""
      ]
     },
     "execution_count": 53,
     "metadata": {},
     "output_type": "execute_result"
    }
   ],
   "source": [
    "string(X12)"
   ]
  },
  {
   "cell_type": "markdown",
   "metadata": {},
   "source": [
    "## Part 2 Serving Questions"
   ]
  },
  {
   "cell_type": "markdown",
   "metadata": {},
   "source": [
    "- Load CSV\n",
    "- Find median\n",
    "- Pick n random questions from first half and t - n random questions from next half\n",
    "- Format the result in json\n"
   ]
  },
  {
   "cell_type": "code",
   "execution_count": 54,
   "metadata": {},
   "outputs": [
    {
     "data": {
      "text/html": [
       "<table class=\"data-frame\"><thead><tr><th></th><th>m1</th><th>m2</th><th>ans</th><th>predicted_time</th></tr><tr><th></th><th>Float64</th><th>Float64</th><th>Float64</th><th>Float64</th></tr></thead><tbody><p>144 rows × 4 columns</p><tr><th>1</th><td>12.0</td><td>1.0</td><td>12.0</td><td>2.31883</td></tr><tr><th>2</th><td>12.0</td><td>2.0</td><td>24.0</td><td>2.30038</td></tr><tr><th>3</th><td>12.0</td><td>3.0</td><td>36.0</td><td>2.28194</td></tr><tr><th>4</th><td>12.0</td><td>4.0</td><td>48.0</td><td>2.2635</td></tr><tr><th>5</th><td>12.0</td><td>5.0</td><td>60.0</td><td>2.24505</td></tr><tr><th>6</th><td>12.0</td><td>6.0</td><td>72.0</td><td>2.22661</td></tr><tr><th>7</th><td>11.0</td><td>1.0</td><td>11.0</td><td>2.22283</td></tr><tr><th>8</th><td>11.0</td><td>2.0</td><td>22.0</td><td>2.21344</td></tr><tr><th>9</th><td>12.0</td><td>7.0</td><td>84.0</td><td>2.20817</td></tr><tr><th>10</th><td>11.0</td><td>3.0</td><td>33.0</td><td>2.20405</td></tr><tr><th>11</th><td>11.0</td><td>4.0</td><td>44.0</td><td>2.19466</td></tr><tr><th>12</th><td>12.0</td><td>8.0</td><td>96.0</td><td>2.18972</td></tr><tr><th>13</th><td>11.0</td><td>5.0</td><td>55.0</td><td>2.18526</td></tr><tr><th>14</th><td>11.0</td><td>6.0</td><td>66.0</td><td>2.17587</td></tr><tr><th>15</th><td>12.0</td><td>9.0</td><td>108.0</td><td>2.17128</td></tr><tr><th>16</th><td>11.0</td><td>7.0</td><td>77.0</td><td>2.16648</td></tr><tr><th>17</th><td>11.0</td><td>8.0</td><td>88.0</td><td>2.15709</td></tr><tr><th>18</th><td>1.0</td><td>12.0</td><td>12.0</td><td>2.15521</td></tr><tr><th>19</th><td>12.0</td><td>10.0</td><td>120.0</td><td>2.15284</td></tr><tr><th>20</th><td>2.0</td><td>12.0</td><td>24.0</td><td>2.15164</td></tr><tr><th>21</th><td>3.0</td><td>12.0</td><td>36.0</td><td>2.14807</td></tr><tr><th>22</th><td>11.0</td><td>9.0</td><td>99.0</td><td>2.14769</td></tr><tr><th>23</th><td>4.0</td><td>12.0</td><td>48.0</td><td>2.1445</td></tr><tr><th>24</th><td>5.0</td><td>12.0</td><td>60.0</td><td>2.14093</td></tr><tr><th>25</th><td>11.0</td><td>10.0</td><td>110.0</td><td>2.1383</td></tr><tr><th>26</th><td>6.0</td><td>12.0</td><td>72.0</td><td>2.13736</td></tr><tr><th>27</th><td>12.0</td><td>11.0</td><td>132.0</td><td>2.13439</td></tr><tr><th>28</th><td>7.0</td><td>12.0</td><td>84.0</td><td>2.13379</td></tr><tr><th>29</th><td>8.0</td><td>12.0</td><td>96.0</td><td>2.13022</td></tr><tr><th>30</th><td>11.0</td><td>11.0</td><td>121.0</td><td>2.12891</td></tr><tr><th>&vellip;</th><td>&vellip;</td><td>&vellip;</td><td>&vellip;</td><td>&vellip;</td></tr></tbody></table>"
      ],
      "text/latex": [
       "\\begin{tabular}{r|cccc}\n",
       "\t& m1 & m2 & ans & predicted\\_time\\\\\n",
       "\t\\hline\n",
       "\t& Float64 & Float64 & Float64 & Float64\\\\\n",
       "\t\\hline\n",
       "\t1 & 12.0 & 1.0 & 12.0 & 2.31883 \\\\\n",
       "\t2 & 12.0 & 2.0 & 24.0 & 2.30038 \\\\\n",
       "\t3 & 12.0 & 3.0 & 36.0 & 2.28194 \\\\\n",
       "\t4 & 12.0 & 4.0 & 48.0 & 2.2635 \\\\\n",
       "\t5 & 12.0 & 5.0 & 60.0 & 2.24505 \\\\\n",
       "\t6 & 12.0 & 6.0 & 72.0 & 2.22661 \\\\\n",
       "\t7 & 11.0 & 1.0 & 11.0 & 2.22283 \\\\\n",
       "\t8 & 11.0 & 2.0 & 22.0 & 2.21344 \\\\\n",
       "\t9 & 12.0 & 7.0 & 84.0 & 2.20817 \\\\\n",
       "\t10 & 11.0 & 3.0 & 33.0 & 2.20405 \\\\\n",
       "\t11 & 11.0 & 4.0 & 44.0 & 2.19466 \\\\\n",
       "\t12 & 12.0 & 8.0 & 96.0 & 2.18972 \\\\\n",
       "\t13 & 11.0 & 5.0 & 55.0 & 2.18526 \\\\\n",
       "\t14 & 11.0 & 6.0 & 66.0 & 2.17587 \\\\\n",
       "\t15 & 12.0 & 9.0 & 108.0 & 2.17128 \\\\\n",
       "\t16 & 11.0 & 7.0 & 77.0 & 2.16648 \\\\\n",
       "\t17 & 11.0 & 8.0 & 88.0 & 2.15709 \\\\\n",
       "\t18 & 1.0 & 12.0 & 12.0 & 2.15521 \\\\\n",
       "\t19 & 12.0 & 10.0 & 120.0 & 2.15284 \\\\\n",
       "\t20 & 2.0 & 12.0 & 24.0 & 2.15164 \\\\\n",
       "\t21 & 3.0 & 12.0 & 36.0 & 2.14807 \\\\\n",
       "\t22 & 11.0 & 9.0 & 99.0 & 2.14769 \\\\\n",
       "\t23 & 4.0 & 12.0 & 48.0 & 2.1445 \\\\\n",
       "\t24 & 5.0 & 12.0 & 60.0 & 2.14093 \\\\\n",
       "\t25 & 11.0 & 10.0 & 110.0 & 2.1383 \\\\\n",
       "\t26 & 6.0 & 12.0 & 72.0 & 2.13736 \\\\\n",
       "\t27 & 12.0 & 11.0 & 132.0 & 2.13439 \\\\\n",
       "\t28 & 7.0 & 12.0 & 84.0 & 2.13379 \\\\\n",
       "\t29 & 8.0 & 12.0 & 96.0 & 2.13022 \\\\\n",
       "\t30 & 11.0 & 11.0 & 121.0 & 2.12891 \\\\\n",
       "\t$\\dots$ & $\\dots$ & $\\dots$ & $\\dots$ & $\\dots$ \\\\\n",
       "\\end{tabular}\n"
      ],
      "text/plain": [
       "\u001b[1m144×4 DataFrame\u001b[0m\n",
       "\u001b[1m Row \u001b[0m│\u001b[1m m1      \u001b[0m\u001b[1m m2      \u001b[0m\u001b[1m ans     \u001b[0m\u001b[1m predicted_time \u001b[0m\n",
       "\u001b[1m     \u001b[0m│\u001b[90m Float64 \u001b[0m\u001b[90m Float64 \u001b[0m\u001b[90m Float64 \u001b[0m\u001b[90m Float64        \u001b[0m\n",
       "─────┼───────────────────────────────────────────\n",
       "   1 │    12.0      1.0     12.0         2.31883\n",
       "   2 │    12.0      2.0     24.0         2.30038\n",
       "   3 │    12.0      3.0     36.0         2.28194\n",
       "   4 │    12.0      4.0     48.0         2.2635\n",
       "   5 │    12.0      5.0     60.0         2.24505\n",
       "   6 │    12.0      6.0     72.0         2.22661\n",
       "   7 │    11.0      1.0     11.0         2.22283\n",
       "   8 │    11.0      2.0     22.0         2.21344\n",
       "   9 │    12.0      7.0     84.0         2.20817\n",
       "  10 │    11.0      3.0     33.0         2.20405\n",
       "  11 │    11.0      4.0     44.0         2.19466\n",
       "  ⋮  │    ⋮        ⋮        ⋮           ⋮\n",
       " 135 │     4.0      1.0      4.0         1.55087\n",
       " 136 │     3.0      2.0      6.0         1.5179\n",
       " 137 │     1.0      4.0      4.0         1.50625\n",
       " 138 │     2.0      3.0      6.0         1.50302\n",
       " 139 │     3.0      1.0      3.0         1.45488\n",
       " 140 │     2.0      2.0      4.0         1.43095\n",
       " 141 │     1.0      3.0      3.0         1.42513\n",
       " 142 │     2.0      1.0      2.0         1.35888\n",
       " 143 │     1.0      2.0      2.0         1.34401\n",
       " 144 │     1.0      1.0      1.0         1.26289\n",
       "\u001b[36m                                 123 rows omitted\u001b[0m"
      ]
     },
     "execution_count": 54,
     "metadata": {},
     "output_type": "execute_result"
    }
   ],
   "source": [
    "# Load CSV to Dataframe\n",
    "df = DataFrame(CSV.File(\"data_trained/christopher.trained.csv\"))"
   ]
  },
  {
   "cell_type": "code",
   "execution_count": null,
   "metadata": {},
   "outputs": [],
   "source": [
    "# Get the median\n"
   ]
  }
 ],
 "metadata": {
  "kernelspec": {
   "display_name": "Julia 1.5.3",
   "language": "julia",
   "name": "julia-1.5"
  },
  "language_info": {
   "file_extension": ".jl",
   "mimetype": "application/julia",
   "name": "julia",
   "version": "1.5.3"
  }
 },
 "nbformat": 4,
 "nbformat_minor": 2
}
